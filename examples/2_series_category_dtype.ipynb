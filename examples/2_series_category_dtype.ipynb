{
 "cells": [
  {
   "cell_type": "code",
   "execution_count": 1,
   "id": "bb5c76b3-a302-4499-9a3d-7c3441937311",
   "metadata": {},
   "outputs": [],
   "source": [
    "import pandas as pd\n",
    "import numpy as np"
   ]
  },
  {
   "cell_type": "markdown",
   "id": "092e2d78-d3d9-495b-ae87-c32031e5fb68",
   "metadata": {},
   "source": [
    "# First, Series"
   ]
  },
  {
   "cell_type": "code",
   "execution_count": 2,
   "id": "a73d3b35-9c6b-42d3-b5bb-1282d4def7ee",
   "metadata": {},
   "outputs": [
    {
     "name": "stdout",
     "output_type": "stream",
     "text": [
      "col   lev \n",
      "col1  lev1    0\n",
      "col2  lev2    1\n",
      "col3  lev3    2\n",
      "Name: column, dtype: int64\n"
     ]
    }
   ],
   "source": [
    "index = pd.MultiIndex.from_arrays([['col1','col2','col3'],['lev1','lev2','lev3']],names=['col','lev'])\n",
    "pd_Series = pd.Series(data=np.arange(3),index=index,name='column')\n",
    "print(pd_Series)"
   ]
  },
  {
   "cell_type": "code",
   "execution_count": 3,
   "id": "df45664b-10ed-4a81-81b3-b88f92da4901",
   "metadata": {},
   "outputs": [
    {
     "name": "stdout",
     "output_type": "stream",
     "text": [
      "[0 1 2]\n",
      "column\n",
      "MultiIndex([('col1', 'lev1'),\n",
      "            ('col2', 'lev2'),\n",
      "            ('col3', 'lev3')],\n",
      "           names=['col', 'lev'])\n"
     ]
    }
   ],
   "source": [
    "print(pd_Series.values)\n",
    "print(pd_Series.name)\n",
    "print(pd_Series.index)"
   ]
  },
  {
   "cell_type": "code",
   "execution_count": 4,
   "id": "cab1eea4-980b-4032-b5ea-7c37671b9f25",
   "metadata": {},
   "outputs": [
    {
     "data": {
      "text/plain": [
       "col   lev \n",
       "col1  lev1    0\n",
       "col2  lev2    1\n",
       "col3  lev3    4\n",
       "Name: column, dtype: int64"
      ]
     },
     "execution_count": 4,
     "metadata": {},
     "output_type": "execute_result"
    }
   ],
   "source": [
    "pd_Series.apply(lambda x:x**2)"
   ]
  },
  {
   "cell_type": "code",
   "execution_count": 5,
   "id": "c082a659-0de2-497e-99e9-041a307d038f",
   "metadata": {},
   "outputs": [
    {
     "data": {
      "text/plain": [
       "col   lev \n",
       "col1  lev1    real0\n",
       "col2  lev2    real1\n",
       "col3  lev3    real2\n",
       "Name: column, dtype: object"
      ]
     },
     "execution_count": 5,
     "metadata": {},
     "output_type": "execute_result"
    }
   ],
   "source": [
    "pd_Series.map({0:'real0',1:'real1',2:'real2'})"
   ]
  },
  {
   "cell_type": "code",
   "execution_count": 6,
   "id": "c7c49768-03e2-42c0-998c-92eaacdce753",
   "metadata": {},
   "outputs": [
    {
     "data": {
      "text/plain": [
       "col   lev \n",
       "col1  lev1    00\n",
       "col2  lev2     1\n",
       "col3  lev3     2\n",
       "Name: column, dtype: object"
      ]
     },
     "execution_count": 6,
     "metadata": {},
     "output_type": "execute_result"
    }
   ],
   "source": [
    "pd_Series.astype('str').str.replace('0','00')"
   ]
  },
  {
   "cell_type": "code",
   "execution_count": 7,
   "id": "31e9800a-6f79-4ed6-b68e-944025baa017",
   "metadata": {},
   "outputs": [
    {
     "data": {
      "text/plain": [
       "[('g1',\n",
       "  col   lev \n",
       "  col1  lev1    0\n",
       "  col3  lev3    2\n",
       "  Name: column, dtype: int64),\n",
       " ('g2',\n",
       "  col   lev \n",
       "  col2  lev2    1\n",
       "  Name: column, dtype: int64)]"
      ]
     },
     "execution_count": 7,
     "metadata": {},
     "output_type": "execute_result"
    }
   ],
   "source": [
    "list(pd_Series.groupby(['g1','g2','g1']))"
   ]
  },
  {
   "cell_type": "code",
   "execution_count": 8,
   "id": "39c55aaf-d04a-4885-a2ad-65303f29b4dc",
   "metadata": {},
   "outputs": [
    {
     "data": {
      "text/plain": [
       "g1    2\n",
       "g2    1\n",
       "Name: column, dtype: int64"
      ]
     },
     "execution_count": 8,
     "metadata": {},
     "output_type": "execute_result"
    }
   ],
   "source": [
    "pd_Series.groupby(['g1','g2','g1']).apply(lambda x:max(x)) \n",
    "# think about, the chunk[0] will go to resultant index, chunk[1]--the grouped_df, is where apply function act upon"
   ]
  },
  {
   "cell_type": "markdown",
   "id": "7a7f6f87-439b-4f0f-a8ae-385bc978e08d",
   "metadata": {},
   "source": [
    "# Next, category\n",
    "\n",
    "1. `pd.Categorical` is a specific data type, its dtype is CategoricalDtype, along with some accessible attributes and functions\n",
    "2. When assign to a Series or DataFrame and access it, it become a series with dtype = 'category' (same as CategoricalDtype), and need `.cat` to return an accessor for `Categorical`'s functions and attributes\n",
    "3. you can also directly built a `CategoricalDtype` for custom sorting application"
   ]
  },
  {
   "cell_type": "code",
   "execution_count": 9,
   "id": "31f8e5dc-3a3a-4264-8bf9-0b5fc951caea",
   "metadata": {},
   "outputs": [],
   "source": [
    "col4 = pd.Categorical(['first','second','third'])"
   ]
  },
  {
   "cell_type": "code",
   "execution_count": 11,
   "id": "b31c1e46-2095-486e-88c7-94798d00840c",
   "metadata": {},
   "outputs": [
    {
     "data": {
      "text/plain": [
       "pandas.core.arrays.categorical.Categorical"
      ]
     },
     "execution_count": 11,
     "metadata": {},
     "output_type": "execute_result"
    }
   ],
   "source": [
    "type(col4)"
   ]
  },
  {
   "cell_type": "code",
   "execution_count": 12,
   "id": "7f21e609-b166-4538-b5f0-d0ac4a689884",
   "metadata": {},
   "outputs": [
    {
     "data": {
      "text/plain": [
       "CategoricalDtype(categories=['first', 'second', 'third'], ordered=False)"
      ]
     },
     "execution_count": 12,
     "metadata": {},
     "output_type": "execute_result"
    }
   ],
   "source": [
    "col4.dtype"
   ]
  },
  {
   "cell_type": "code",
   "execution_count": 14,
   "id": "5217090a-e4da-4545-bf25-1ae5d1517a78",
   "metadata": {},
   "outputs": [
    {
     "data": {
      "text/plain": [
       "Index(['first', 'second', 'third'], dtype='object')"
      ]
     },
     "execution_count": 14,
     "metadata": {},
     "output_type": "execute_result"
    }
   ],
   "source": [
    "col4.categories"
   ]
  },
  {
   "cell_type": "code",
   "execution_count": 15,
   "id": "75f92275-3782-447d-a666-6761e9aff114",
   "metadata": {},
   "outputs": [
    {
     "data": {
      "text/plain": [
       "['first', 'second', 'third']\n",
       "Categories (3, object): ['second', 'first', 'third']"
      ]
     },
     "execution_count": 15,
     "metadata": {},
     "output_type": "execute_result"
    }
   ],
   "source": [
    "col4.reorder_categories(['second','first','third'])"
   ]
  },
  {
   "cell_type": "code",
   "execution_count": 16,
   "id": "89f57238-8d78-42f1-8333-d6ea104f2c95",
   "metadata": {},
   "outputs": [],
   "source": [
    "df = pd.DataFrame({'col1':[1,2,3],'col2':[0.3,0.4,0.5],'col3':['first','second','third'],'col4':col4,\n",
    "                   'col5':[1,0.4,'first']})"
   ]
  },
  {
   "cell_type": "code",
   "execution_count": 20,
   "id": "b8847e90-7750-4316-aa19-cb6ecdb6fa28",
   "metadata": {},
   "outputs": [
    {
     "name": "stdout",
     "output_type": "stream",
     "text": [
      "<class 'pandas.core.series.Series'>\n",
      "category\n"
     ]
    }
   ],
   "source": [
    "print(type(df['col4']))\n",
    "print(df['col4'].dtype)"
   ]
  },
  {
   "cell_type": "code",
   "execution_count": 21,
   "id": "2a5f70d8-fa2a-45c1-b909-2e764edb181d",
   "metadata": {},
   "outputs": [
    {
     "name": "stdout",
     "output_type": "stream",
     "text": [
      "Index(['first', 'second', 'third'], dtype='object')\n",
      "0     first\n",
      "1    second\n",
      "2     third\n",
      "Name: col4, dtype: category\n",
      "Categories (3, object): ['second', 'first', 'third']\n"
     ]
    }
   ],
   "source": [
    "print(df.loc[:,'col4'].cat.categories)\n",
    "print(df.loc[:,'col4'].cat.reorder_categories(['second','first','third']))"
   ]
  },
  {
   "cell_type": "code",
   "execution_count": 23,
   "id": "26c47668-a16f-45dc-867a-473751034dbd",
   "metadata": {},
   "outputs": [
    {
     "data": {
      "text/html": [
       "<div>\n",
       "<style scoped>\n",
       "    .dataframe tbody tr th:only-of-type {\n",
       "        vertical-align: middle;\n",
       "    }\n",
       "\n",
       "    .dataframe tbody tr th {\n",
       "        vertical-align: top;\n",
       "    }\n",
       "\n",
       "    .dataframe thead th {\n",
       "        text-align: right;\n",
       "    }\n",
       "</style>\n",
       "<table border=\"1\" class=\"dataframe\">\n",
       "  <thead>\n",
       "    <tr style=\"text-align: right;\">\n",
       "      <th></th>\n",
       "      <th>col1</th>\n",
       "      <th>col2</th>\n",
       "      <th>col3</th>\n",
       "      <th>col4</th>\n",
       "      <th>col5</th>\n",
       "    </tr>\n",
       "  </thead>\n",
       "  <tbody>\n",
       "    <tr>\n",
       "      <th>1</th>\n",
       "      <td>2</td>\n",
       "      <td>0.4</td>\n",
       "      <td>second</td>\n",
       "      <td>second</td>\n",
       "      <td>0.4</td>\n",
       "    </tr>\n",
       "    <tr>\n",
       "      <th>0</th>\n",
       "      <td>1</td>\n",
       "      <td>0.3</td>\n",
       "      <td>first</td>\n",
       "      <td>first</td>\n",
       "      <td>1</td>\n",
       "    </tr>\n",
       "    <tr>\n",
       "      <th>2</th>\n",
       "      <td>3</td>\n",
       "      <td>0.5</td>\n",
       "      <td>third</td>\n",
       "      <td>third</td>\n",
       "      <td>first</td>\n",
       "    </tr>\n",
       "  </tbody>\n",
       "</table>\n",
       "</div>"
      ],
      "text/plain": [
       "  col1  col2    col3    col4   col5\n",
       "1    2   0.4  second  second    0.4\n",
       "0    1   0.3   first   first      1\n",
       "2    3   0.5   third   third  first"
      ]
     },
     "execution_count": 23,
     "metadata": {},
     "output_type": "execute_result"
    }
   ],
   "source": [
    "custom_order = [2,1,3]\n",
    "df['col1'] = df['col1'].astype(dtype=pd.CategoricalDtype(categories=custom_order,ordered=True)) # default, 2 is the smallest\n",
    "df.sort_values(by='col1',inplace=True)  # default, ascending\n",
    "df"
   ]
  },
  {
   "cell_type": "code",
   "execution_count": null,
   "id": "a5f70b07-3a10-44d3-b44b-655d8cc00e4f",
   "metadata": {},
   "outputs": [],
   "source": []
  }
 ],
 "metadata": {
  "kernelspec": {
   "display_name": "Python 3 (ipykernel)",
   "language": "python",
   "name": "python3"
  },
  "language_info": {
   "codemirror_mode": {
    "name": "ipython",
    "version": 3
   },
   "file_extension": ".py",
   "mimetype": "text/x-python",
   "name": "python",
   "nbconvert_exporter": "python",
   "pygments_lexer": "ipython3",
   "version": "3.7.13"
  }
 },
 "nbformat": 4,
 "nbformat_minor": 5
}
