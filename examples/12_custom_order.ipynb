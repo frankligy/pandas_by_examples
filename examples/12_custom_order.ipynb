{
  "nbformat": 4,
  "nbformat_minor": 0,
  "metadata": {
    "colab": {
      "provenance": []
    },
    "kernelspec": {
      "name": "python3",
      "display_name": "Python 3"
    },
    "language_info": {
      "name": "python"
    }
  },
  "cells": [
    {
      "cell_type": "code",
      "execution_count": 1,
      "metadata": {
        "id": "BwKHc2HVbO4b"
      },
      "outputs": [],
      "source": [
        "import pandas as pd"
      ]
    },
    {
      "cell_type": "code",
      "source": [
        "# Sample DataFrame\n",
        "data = {'Category': ['B', 'A', 'C', 'A', 'B', 'C', 'B']}\n",
        "df = pd.DataFrame(data)\n",
        "\n",
        "# Define your custom order for the 'Category' column\n",
        "custom_order = ['A', 'B', 'C']\n",
        "\n",
        "# Convert the 'Category' column to a categorical column with the custom order\n",
        "df['Category'] = pd.Categorical(df['Category'], categories=custom_order, ordered=True)\n",
        "\n",
        "# Sort the DataFrame based on the custom order\n",
        "df = df.sort_values('Category')"
      ],
      "metadata": {
        "id": "KMvQS9yU9_X1"
      },
      "execution_count": 2,
      "outputs": []
    }
  ]
}