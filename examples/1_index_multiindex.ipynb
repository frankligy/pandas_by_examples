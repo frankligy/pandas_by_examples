{
  "cells": [
    {
      "cell_type": "code",
      "execution_count": null,
      "id": "00026848-11dd-48f9-a227-acd91a00a1ab",
      "metadata": {
        "id": "00026848-11dd-48f9-a227-acd91a00a1ab"
      },
      "outputs": [],
      "source": [
        "import pandas as pd\n",
        "import numpy as np"
      ]
    },
    {
      "cell_type": "markdown",
      "id": "50e9a21e-4e98-408a-ab73-41b0df04c1b6",
      "metadata": {
        "id": "50e9a21e-4e98-408a-ab73-41b0df04c1b6"
      },
      "source": [
        "## First talking about Index"
      ]
    },
    {
      "cell_type": "code",
      "execution_count": null,
      "id": "ac167c11-1b3d-4e36-b5d2-a74d6e24389a",
      "metadata": {
        "id": "ac167c11-1b3d-4e36-b5d2-a74d6e24389a"
      },
      "outputs": [],
      "source": [
        "pd_index = pd.Index(['index1','index2','index3'],name='index')"
      ]
    },
    {
      "cell_type": "code",
      "execution_count": null,
      "id": "572fa76f-e774-4be3-a0c2-18dbd179b4ce",
      "metadata": {
        "id": "572fa76f-e774-4be3-a0c2-18dbd179b4ce",
        "outputId": "c0afd51d-afd9-4598-c7c5-086130c2592c"
      },
      "outputs": [
        {
          "name": "stdout",
          "output_type": "stream",
          "text": [
            "Index(['index1', 'index2', 'index3'], dtype='object', name='index')\n"
          ]
        }
      ],
      "source": [
        "print(pd_index)"
      ]
    },
    {
      "cell_type": "code",
      "execution_count": null,
      "id": "3d50f0f2-70f3-47f0-9633-295f889a25f0",
      "metadata": {
        "id": "3d50f0f2-70f3-47f0-9633-295f889a25f0",
        "outputId": "5e9b0c04-34af-4322-9e91-bf52084e84ad"
      },
      "outputs": [
        {
          "data": {
            "text/plain": [
              "array(['index1', 'index2', 'index3'], dtype=object)"
            ]
          },
          "execution_count": 5,
          "metadata": {},
          "output_type": "execute_result"
        }
      ],
      "source": [
        "pd_index.values"
      ]
    },
    {
      "cell_type": "code",
      "execution_count": null,
      "id": "fb8fd76a-bdaf-49ac-87c7-26ce7fdda005",
      "metadata": {
        "id": "fb8fd76a-bdaf-49ac-87c7-26ce7fdda005",
        "outputId": "8e4983b3-c558-48dd-9a93-6e7b0bdff3c7"
      },
      "outputs": [
        {
          "data": {
            "text/plain": [
              "'index'"
            ]
          },
          "execution_count": 6,
          "metadata": {},
          "output_type": "execute_result"
        }
      ],
      "source": [
        "pd_index.name"
      ]
    },
    {
      "cell_type": "code",
      "execution_count": null,
      "id": "4ba3b77c-fc6a-4f8c-9652-d0dc08c59d4c",
      "metadata": {
        "id": "4ba3b77c-fc6a-4f8c-9652-d0dc08c59d4c",
        "outputId": "b6f187b4-42ec-4306-c931-883a827b55ef"
      },
      "outputs": [
        {
          "data": {
            "text/plain": [
              "dtype('O')"
            ]
          },
          "execution_count": 7,
          "metadata": {},
          "output_type": "execute_result"
        }
      ],
      "source": [
        "pd_index.dtype"
      ]
    },
    {
      "cell_type": "code",
      "execution_count": null,
      "id": "d37dedf1-9e0b-402b-ad3b-4d4795fbe43d",
      "metadata": {
        "id": "d37dedf1-9e0b-402b-ad3b-4d4795fbe43d",
        "outputId": "68f905aa-d067-4066-c783-f96f1ca5f7ce"
      },
      "outputs": [
        {
          "name": "stdout",
          "output_type": "stream",
          "text": [
            "['index1', 'index2', 'index3']\n",
            "index\n",
            "index1    index1\n",
            "index2    index2\n",
            "index3    index3\n",
            "Name: index, dtype: object\n",
            "         index\n",
            "index         \n",
            "index1  index1\n",
            "index2  index2\n",
            "index3  index3\n",
            "{'index1': 'index1', 'index2': 'index2', 'index3': 'index3'}\n"
          ]
        }
      ],
      "source": [
        "# transfer to list, series, frame\n",
        "print(pd_index.tolist())\n",
        "print(pd_index.to_series())  # duplicate the index to series index, index to series data\n",
        "print(pd_index.to_frame())  # duplicate the index to frame index, index to column 1\n",
        "\n",
        "# series can be further converted to dict\n",
        "print(pd_index.to_series().to_dict())"
      ]
    },
    {
      "cell_type": "markdown",
      "id": "2795af14-8509-4d6a-a650-ffc2995bceea",
      "metadata": {
        "id": "2795af14-8509-4d6a-a650-ffc2995bceea"
      },
      "source": [
        "## Then let's talk about MultiIndex"
      ]
    },
    {
      "cell_type": "code",
      "execution_count": null,
      "id": "e30b42fe-ac2d-4fc9-be5d-f8b27d08cf90",
      "metadata": {
        "id": "e30b42fe-ac2d-4fc9-be5d-f8b27d08cf90"
      },
      "outputs": [],
      "source": [
        "ori_array = [('l1','l2','l3'),('c1','c2','c3'),('r1','r2','r3')]\n",
        "ori_tuple = [('l1','c1','r1'),('l2','c2','r2'),('l3','c3','r3')]"
      ]
    },
    {
      "cell_type": "code",
      "execution_count": null,
      "id": "0baf45ed-f855-4ff2-be8d-0a75bea5352d",
      "metadata": {
        "id": "0baf45ed-f855-4ff2-be8d-0a75bea5352d"
      },
      "outputs": [],
      "source": [
        "mi = pd.MultiIndex.from_arrays(arrays=ori_array,sortorder=0,names=('left','center','right'))"
      ]
    },
    {
      "cell_type": "code",
      "execution_count": null,
      "id": "8b03e48c-087d-4f3c-b2e0-f4abfda77e88",
      "metadata": {
        "id": "8b03e48c-087d-4f3c-b2e0-f4abfda77e88",
        "outputId": "f2695cfc-1fdd-4de2-a17d-57f2ae4c16c7"
      },
      "outputs": [
        {
          "data": {
            "text/plain": [
              "MultiIndex([('l1', 'c1', 'r1'),\n",
              "            ('l2', 'c2', 'r2'),\n",
              "            ('l3', 'c3', 'r3')],\n",
              "           names=['left', 'center', 'right'])"
            ]
          },
          "execution_count": 11,
          "metadata": {},
          "output_type": "execute_result"
        }
      ],
      "source": [
        "mi   # level 0 is left, level -1 is right"
      ]
    },
    {
      "cell_type": "code",
      "execution_count": null,
      "id": "172d7f7d-486b-47d9-8f1d-2531e878a43c",
      "metadata": {
        "id": "172d7f7d-486b-47d9-8f1d-2531e878a43c"
      },
      "outputs": [],
      "source": [
        "mi = pd.MultiIndex.from_tuples(tuples=ori_tuple,sortorder=0,names=('left','center','right'))"
      ]
    },
    {
      "cell_type": "code",
      "execution_count": null,
      "id": "49176b6f-dd58-4163-9782-9a376427f072",
      "metadata": {
        "id": "49176b6f-dd58-4163-9782-9a376427f072",
        "outputId": "939bf947-f326-4c1d-dd22-22ecfaf69df8"
      },
      "outputs": [
        {
          "data": {
            "text/plain": [
              "MultiIndex([('l1', 'c1', 'r1'),\n",
              "            ('l2', 'c2', 'r2'),\n",
              "            ('l3', 'c3', 'r3')],\n",
              "           names=['left', 'center', 'right'])"
            ]
          },
          "execution_count": 13,
          "metadata": {},
          "output_type": "execute_result"
        }
      ],
      "source": [
        "mi"
      ]
    },
    {
      "cell_type": "markdown",
      "id": "d97c94a7-c305-46fa-a1be-053027a87bcf",
      "metadata": {
        "id": "d97c94a7-c305-46fa-a1be-053027a87bcf"
      },
      "source": [
        "## Attributes of MultiIndex"
      ]
    },
    {
      "cell_type": "code",
      "execution_count": null,
      "id": "8d43293f-ec5d-4edd-8a2d-3b1c1f5b3b5d",
      "metadata": {
        "id": "8d43293f-ec5d-4edd-8a2d-3b1c1f5b3b5d",
        "outputId": "26a9c213-5aba-40e0-9f63-7c4ee81cebbd"
      },
      "outputs": [
        {
          "data": {
            "text/plain": [
              "FrozenList(['left', 'center', 'right'])"
            ]
          },
          "execution_count": 14,
          "metadata": {},
          "output_type": "execute_result"
        }
      ],
      "source": [
        "mi.names"
      ]
    },
    {
      "cell_type": "code",
      "execution_count": null,
      "id": "790065f8-586c-4afb-8777-3b86ec04a513",
      "metadata": {
        "id": "790065f8-586c-4afb-8777-3b86ec04a513",
        "outputId": "747f5a7d-1d87-4f16-ee43-259d907f42cd"
      },
      "outputs": [
        {
          "data": {
            "text/plain": [
              "FrozenList([['l1', 'l2', 'l3'], ['c1', 'c2', 'c3'], ['r1', 'r2', 'r3']])"
            ]
          },
          "execution_count": 15,
          "metadata": {},
          "output_type": "execute_result"
        }
      ],
      "source": [
        "mi.levels.  # this is just the unique level, not all entries, using to_frames instead"
      ]
    },
    {
      "cell_type": "code",
      "execution_count": null,
      "id": "691d3199-62b3-41e3-a4f2-3cfa30a22e69",
      "metadata": {
        "id": "691d3199-62b3-41e3-a4f2-3cfa30a22e69",
        "outputId": "5176ef3e-7f67-450e-c845-f7cc54deb111"
      },
      "outputs": [
        {
          "data": {
            "text/plain": [
              "Index(['l1', 'l2', 'l3'], dtype='object', name='left')"
            ]
          },
          "execution_count": 16,
          "metadata": {},
          "output_type": "execute_result"
        }
      ],
      "source": [
        "mi.levels[0]"
      ]
    },
    {
      "cell_type": "code",
      "execution_count": null,
      "id": "4ac78bbe-fb4d-4951-94bb-b82d6caae7bb",
      "metadata": {
        "id": "4ac78bbe-fb4d-4951-94bb-b82d6caae7bb",
        "outputId": "64cddaa5-cf27-4873-bcf5-58c360f6f8a7"
      },
      "outputs": [
        {
          "data": {
            "text/plain": [
              "FrozenList([[0, 1, 2], [0, 1, 2], [0, 1, 2]])"
            ]
          },
          "execution_count": 17,
          "metadata": {},
          "output_type": "execute_result"
        }
      ],
      "source": [
        "mi.codes  # if we first encode the unique values in each level with numeric code"
      ]
    },
    {
      "cell_type": "code",
      "execution_count": null,
      "id": "c5e686a7-a9f8-4e62-beaf-ffeeb2107115",
      "metadata": {
        "id": "c5e686a7-a9f8-4e62-beaf-ffeeb2107115",
        "outputId": "b6635e4e-09e5-4a11-b3dc-d412b6f1b26c"
      },
      "outputs": [
        {
          "data": {
            "text/plain": [
              "3"
            ]
          },
          "execution_count": 18,
          "metadata": {},
          "output_type": "execute_result"
        }
      ],
      "source": [
        "mi.nlevels"
      ]
    },
    {
      "cell_type": "code",
      "execution_count": null,
      "id": "88b2a959-0b58-459d-850a-112dd3257cd9",
      "metadata": {
        "id": "88b2a959-0b58-459d-850a-112dd3257cd9",
        "outputId": "30bcc2dd-74dd-4407-dcb4-85fdc26eaa69"
      },
      "outputs": [
        {
          "data": {
            "text/plain": [
              "(3, 3, 3)"
            ]
          },
          "execution_count": 19,
          "metadata": {},
          "output_type": "execute_result"
        }
      ],
      "source": [
        "mi.levshape"
      ]
    },
    {
      "cell_type": "code",
      "execution_count": null,
      "id": "3b881afc-32fd-49cc-be75-d8b180d6f5fe",
      "metadata": {
        "id": "3b881afc-32fd-49cc-be75-d8b180d6f5fe",
        "outputId": "f358b76c-081d-4553-f6e1-563626e2af0e"
      },
      "outputs": [
        {
          "data": {
            "text/plain": [
              "dtype('O')"
            ]
          },
          "execution_count": 20,
          "metadata": {},
          "output_type": "execute_result"
        }
      ],
      "source": [
        "mi.dtype"
      ]
    },
    {
      "cell_type": "markdown",
      "id": "ff922823-ffad-4e7f-9c3a-9b1089291b2d",
      "metadata": {
        "id": "ff922823-ffad-4e7f-9c3a-9b1089291b2d"
      },
      "source": [
        "## Operations on MultiIndex"
      ]
    },
    {
      "cell_type": "code",
      "execution_count": null,
      "id": "1ca5a696-e9ca-4d95-b42d-0a0057d256ec",
      "metadata": {
        "id": "1ca5a696-e9ca-4d95-b42d-0a0057d256ec",
        "outputId": "e3ebfd92-dfbb-427d-9b5f-cdcb0ea6e742"
      },
      "outputs": [
        {
          "data": {
            "text/plain": [
              "MultiIndex([('ll1', 'c1', 'r1'),\n",
              "            ('ll2', 'c2', 'r2'),\n",
              "            ('ll3', 'c3', 'r3')],\n",
              "           names=['left', 'center', 'right'])"
            ]
          },
          "execution_count": 23,
          "metadata": {},
          "output_type": "execute_result"
        }
      ],
      "source": [
        "mi.set_levels(levels=('ll1','ll2','ll3'),level=0)   # just need to input the unique values to be replaced in that level, not whole level"
      ]
    },
    {
      "cell_type": "code",
      "execution_count": null,
      "id": "06b876d4-c238-4a1b-8e2a-b5a696dfcb49",
      "metadata": {
        "id": "06b876d4-c238-4a1b-8e2a-b5a696dfcb49",
        "outputId": "6a582ecb-c02a-4b2c-e84a-c85c072d5bb2"
      },
      "outputs": [
        {
          "data": {
            "text/plain": [
              "MultiIndex([('l3', 'c1', 'r1'),\n",
              "            ('l2', 'c2', 'r2'),\n",
              "            ('l1', 'c3', 'r3')],\n",
              "           names=['left', 'center', 'right'])"
            ]
          },
          "execution_count": 24,
          "metadata": {},
          "output_type": "execute_result"
        }
      ],
      "source": [
        "mi.set_codes(codes=(2,1,0),level=0)    # more like reorder, based on the numeric codes that encode the level"
      ]
    },
    {
      "cell_type": "code",
      "execution_count": null,
      "id": "c45ef8e4-6e1f-47d4-89c7-3f4caaab4529",
      "metadata": {
        "id": "c45ef8e4-6e1f-47d4-89c7-3f4caaab4529",
        "outputId": "18d5ff01-86f4-432a-8bbc-05d0269b8e45"
      },
      "outputs": [
        {
          "name": "stdout",
          "output_type": "stream",
          "text": [
            "MultiIndex([('col1', 'lev1'),\n",
            "            ('col2', 'lev2'),\n",
            "            ('col3', 'lev3')],\n",
            "           names=['col', 'lev'])\n"
          ]
        }
      ],
      "source": [
        "arrays = [['col1','col2','col3'],['lev1','lev2','lev3']]\n",
        "pd_MultiIndex = pd.MultiIndex.from_arrays(arrays,names=['col','lev'])\n",
        "print(pd_MultiIndex)"
      ]
    },
    {
      "cell_type": "code",
      "execution_count": null,
      "id": "9f64be56-21b4-42c1-8065-0a9128fe08d2",
      "metadata": {
        "id": "9f64be56-21b4-42c1-8065-0a9128fe08d2",
        "outputId": "f656da42-a19e-412d-f535-faf14e6bfdfb"
      },
      "outputs": [
        {
          "data": {
            "text/html": [
              "<div>\n",
              "<style scoped>\n",
              "    .dataframe tbody tr th:only-of-type {\n",
              "        vertical-align: middle;\n",
              "    }\n",
              "\n",
              "    .dataframe tbody tr th {\n",
              "        vertical-align: top;\n",
              "    }\n",
              "\n",
              "    .dataframe thead tr th {\n",
              "        text-align: left;\n",
              "    }\n",
              "\n",
              "    .dataframe thead tr:last-of-type th {\n",
              "        text-align: right;\n",
              "    }\n",
              "</style>\n",
              "<table border=\"1\" class=\"dataframe\">\n",
              "  <thead>\n",
              "    <tr>\n",
              "      <th></th>\n",
              "      <th>col</th>\n",
              "      <th>col1</th>\n",
              "      <th>col2</th>\n",
              "      <th>col3</th>\n",
              "    </tr>\n",
              "    <tr>\n",
              "      <th></th>\n",
              "      <th>lev</th>\n",
              "      <th>lev1</th>\n",
              "      <th>lev2</th>\n",
              "      <th>lev3</th>\n",
              "    </tr>\n",
              "    <tr>\n",
              "      <th>col</th>\n",
              "      <th>lev</th>\n",
              "      <th></th>\n",
              "      <th></th>\n",
              "      <th></th>\n",
              "    </tr>\n",
              "  </thead>\n",
              "  <tbody>\n",
              "    <tr>\n",
              "      <th>col1</th>\n",
              "      <th>lev1</th>\n",
              "      <td>0.404344</td>\n",
              "      <td>0.736879</td>\n",
              "      <td>0.132671</td>\n",
              "    </tr>\n",
              "    <tr>\n",
              "      <th>col2</th>\n",
              "      <th>lev2</th>\n",
              "      <td>0.510866</td>\n",
              "      <td>0.407481</td>\n",
              "      <td>0.845972</td>\n",
              "    </tr>\n",
              "    <tr>\n",
              "      <th>col3</th>\n",
              "      <th>lev3</th>\n",
              "      <td>0.351028</td>\n",
              "      <td>0.496618</td>\n",
              "      <td>0.347668</td>\n",
              "    </tr>\n",
              "  </tbody>\n",
              "</table>\n",
              "</div>"
            ],
            "text/plain": [
              "col            col1      col2      col3\n",
              "lev            lev1      lev2      lev3\n",
              "col  lev                               \n",
              "col1 lev1  0.404344  0.736879  0.132671\n",
              "col2 lev2  0.510866  0.407481  0.845972\n",
              "col3 lev3  0.351028  0.496618  0.347668"
            ]
          },
          "execution_count": 27,
          "metadata": {},
          "output_type": "execute_result"
        }
      ],
      "source": [
        "df = pd.DataFrame(data=np.random.random([3,3]),index=pd_MultiIndex,columns=pd_MultiIndex)\n",
        "df"
      ]
    },
    {
      "cell_type": "code",
      "execution_count": null,
      "id": "8f4b769e-ad4b-4cb4-9061-746d8a03d295",
      "metadata": {
        "id": "8f4b769e-ad4b-4cb4-9061-746d8a03d295",
        "outputId": "18a50c54-ef2c-4117-ff5f-6e22da8145d9"
      },
      "outputs": [
        {
          "data": {
            "text/html": [
              "<div>\n",
              "<style scoped>\n",
              "    .dataframe tbody tr th:only-of-type {\n",
              "        vertical-align: middle;\n",
              "    }\n",
              "\n",
              "    .dataframe tbody tr th {\n",
              "        vertical-align: top;\n",
              "    }\n",
              "\n",
              "    .dataframe thead th {\n",
              "        text-align: right;\n",
              "    }\n",
              "</style>\n",
              "<table border=\"1\" class=\"dataframe\">\n",
              "  <thead>\n",
              "    <tr style=\"text-align: right;\">\n",
              "      <th></th>\n",
              "      <th>lev</th>\n",
              "      <th>lev1</th>\n",
              "    </tr>\n",
              "    <tr>\n",
              "      <th>col</th>\n",
              "      <th>lev</th>\n",
              "      <th></th>\n",
              "    </tr>\n",
              "  </thead>\n",
              "  <tbody>\n",
              "    <tr>\n",
              "      <th>col1</th>\n",
              "      <th>lev1</th>\n",
              "      <td>0.404344</td>\n",
              "    </tr>\n",
              "    <tr>\n",
              "      <th>col2</th>\n",
              "      <th>lev2</th>\n",
              "      <td>0.510866</td>\n",
              "    </tr>\n",
              "    <tr>\n",
              "      <th>col3</th>\n",
              "      <th>lev3</th>\n",
              "      <td>0.351028</td>\n",
              "    </tr>\n",
              "  </tbody>\n",
              "</table>\n",
              "</div>"
            ],
            "text/plain": [
              "lev            lev1\n",
              "col  lev           \n",
              "col1 lev1  0.404344\n",
              "col2 lev2  0.510866\n",
              "col3 lev3  0.351028"
            ]
          },
          "execution_count": 28,
          "metadata": {},
          "output_type": "execute_result"
        }
      ],
      "source": [
        "# indexing column first level\n",
        "df.loc[:,'col1']"
      ]
    },
    {
      "cell_type": "code",
      "execution_count": null,
      "id": "e10f3de8-e0cf-4ffb-994d-5b7da3af74ae",
      "metadata": {
        "id": "e10f3de8-e0cf-4ffb-994d-5b7da3af74ae",
        "outputId": "0f9c41e6-a7a8-4c9b-eb2b-3991dd9a0991"
      },
      "outputs": [
        {
          "data": {
            "text/html": [
              "<div>\n",
              "<style scoped>\n",
              "    .dataframe tbody tr th:only-of-type {\n",
              "        vertical-align: middle;\n",
              "    }\n",
              "\n",
              "    .dataframe tbody tr th {\n",
              "        vertical-align: top;\n",
              "    }\n",
              "\n",
              "    .dataframe thead tr th {\n",
              "        text-align: left;\n",
              "    }\n",
              "\n",
              "    .dataframe thead tr:last-of-type th {\n",
              "        text-align: right;\n",
              "    }\n",
              "</style>\n",
              "<table border=\"1\" class=\"dataframe\">\n",
              "  <thead>\n",
              "    <tr>\n",
              "      <th></th>\n",
              "      <th>col</th>\n",
              "      <th>col1</th>\n",
              "    </tr>\n",
              "    <tr>\n",
              "      <th></th>\n",
              "      <th>lev</th>\n",
              "      <th>lev1</th>\n",
              "    </tr>\n",
              "    <tr>\n",
              "      <th>col</th>\n",
              "      <th>lev</th>\n",
              "      <th></th>\n",
              "    </tr>\n",
              "  </thead>\n",
              "  <tbody>\n",
              "    <tr>\n",
              "      <th>col1</th>\n",
              "      <th>lev1</th>\n",
              "      <td>0.404344</td>\n",
              "    </tr>\n",
              "    <tr>\n",
              "      <th>col2</th>\n",
              "      <th>lev2</th>\n",
              "      <td>0.510866</td>\n",
              "    </tr>\n",
              "    <tr>\n",
              "      <th>col3</th>\n",
              "      <th>lev3</th>\n",
              "      <td>0.351028</td>\n",
              "    </tr>\n",
              "  </tbody>\n",
              "</table>\n",
              "</div>"
            ],
            "text/plain": [
              "col            col1\n",
              "lev            lev1\n",
              "col  lev           \n",
              "col1 lev1  0.404344\n",
              "col2 lev2  0.510866\n",
              "col3 lev3  0.351028"
            ]
          },
          "execution_count": 29,
          "metadata": {},
          "output_type": "execute_result"
        }
      ],
      "source": [
        "# index column second level, also applicable to both levels together\n",
        "df.loc[:,(slice(None),'lev1')]"
      ]
    },
    {
      "cell_type": "code",
      "execution_count": null,
      "id": "63f87530-18d5-453c-a781-6156b16e09b5",
      "metadata": {
        "id": "63f87530-18d5-453c-a781-6156b16e09b5",
        "outputId": "2b5f4005-27cd-4b6a-d1de-3aee7498d362"
      },
      "outputs": [
        {
          "data": {
            "text/plain": [
              "Index(['col1', 'col2', 'col3'], dtype='object', name='col')"
            ]
          },
          "execution_count": 30,
          "metadata": {},
          "output_type": "execute_result"
        }
      ],
      "source": [
        "# get_level_values\n",
        "pd_MultiIndex.get_level_values('col')"
      ]
    },
    {
      "cell_type": "code",
      "execution_count": null,
      "id": "df17dfa0-7d11-4d77-9387-208fe507927a",
      "metadata": {
        "id": "df17dfa0-7d11-4d77-9387-208fe507927a",
        "outputId": "6926c816-1502-4cf9-af71-9a63fa462eb1"
      },
      "outputs": [
        {
          "name": "stdout",
          "output_type": "stream",
          "text": [
            "Index([('l1', 'c1', 'r1'), ('l2', 'c2', 'r2'), ('l3', 'c3', 'r3')], dtype='object')\n",
            "[('col1', 'lev1'), ('col2', 'lev2'), ('col3', 'lev3')]\n",
            "                  left center right\n",
            "left center right                  \n",
            "l1   c1     r1      l1     c1    r1\n",
            "l2   c2     r2      l2     c2    r2\n",
            "l3   c3     r3      l3     c3    r3\n",
            "  left center right\n",
            "0   l1     c1    r1\n",
            "1   l2     c2    r2\n",
            "2   l3     c3    r3\n"
          ]
        }
      ],
      "source": [
        "print(mi.to_flat_index())   # inverse of from_tuple, but type is an Index\n",
        "print(pd_MultiIndex.tolist())\n",
        "print(mi.to_frame())\n",
        "print(mi.to_frame(index=False))"
      ]
    },
    {
      "cell_type": "code",
      "execution_count": null,
      "id": "86fca1ca-ea5a-4a07-8249-b9fa6d3f60f7",
      "metadata": {
        "id": "86fca1ca-ea5a-4a07-8249-b9fa6d3f60f7"
      },
      "outputs": [],
      "source": []
    }
  ],
  "metadata": {
    "kernelspec": {
      "display_name": "Python 3 (ipykernel)",
      "language": "python",
      "name": "python3"
    },
    "language_info": {
      "codemirror_mode": {
        "name": "ipython",
        "version": 3
      },
      "file_extension": ".py",
      "mimetype": "text/x-python",
      "name": "python",
      "nbconvert_exporter": "python",
      "pygments_lexer": "ipython3",
      "version": "3.7.13"
    },
    "colab": {
      "provenance": []
    }
  },
  "nbformat": 4,
  "nbformat_minor": 5
}