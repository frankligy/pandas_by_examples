{
 "cells": [
  {
   "cell_type": "code",
   "execution_count": 2,
   "id": "00026848-11dd-48f9-a227-acd91a00a1ab",
   "metadata": {},
   "outputs": [],
   "source": [
    "import pandas as pd\n",
    "import numpy as np"
   ]
  },
  {
   "cell_type": "markdown",
   "id": "50e9a21e-4e98-408a-ab73-41b0df04c1b6",
   "metadata": {},
   "source": [
    "## First talking about Index"
   ]
  },
  {
   "cell_type": "code",
   "execution_count": 3,
   "id": "ac167c11-1b3d-4e36-b5d2-a74d6e24389a",
   "metadata": {},
   "outputs": [],
   "source": [
    "pd_index = pd.Index(['index1','index2','index3'],name='index')"
   ]
  },
  {
   "cell_type": "code",
   "execution_count": 4,
   "id": "572fa76f-e774-4be3-a0c2-18dbd179b4ce",
   "metadata": {},
   "outputs": [
    {
     "name": "stdout",
     "output_type": "stream",
     "text": [
      "Index(['index1', 'index2', 'index3'], dtype='object', name='index')\n"
     ]
    }
   ],
   "source": [
    "print(pd_index)"
   ]
  },
  {
   "cell_type": "code",
   "execution_count": 5,
   "id": "3d50f0f2-70f3-47f0-9633-295f889a25f0",
   "metadata": {},
   "outputs": [
    {
     "data": {
      "text/plain": [
       "array(['index1', 'index2', 'index3'], dtype=object)"
      ]
     },
     "execution_count": 5,
     "metadata": {},
     "output_type": "execute_result"
    }
   ],
   "source": [
    "pd_index.values"
   ]
  },
  {
   "cell_type": "code",
   "execution_count": 6,
   "id": "fb8fd76a-bdaf-49ac-87c7-26ce7fdda005",
   "metadata": {},
   "outputs": [
    {
     "data": {
      "text/plain": [
       "'index'"
      ]
     },
     "execution_count": 6,
     "metadata": {},
     "output_type": "execute_result"
    }
   ],
   "source": [
    "pd_index.name"
   ]
  },
  {
   "cell_type": "code",
   "execution_count": 7,
   "id": "4ba3b77c-fc6a-4f8c-9652-d0dc08c59d4c",
   "metadata": {},
   "outputs": [
    {
     "data": {
      "text/plain": [
       "dtype('O')"
      ]
     },
     "execution_count": 7,
     "metadata": {},
     "output_type": "execute_result"
    }
   ],
   "source": [
    "pd_index.dtype"
   ]
  },
  {
   "cell_type": "code",
   "execution_count": 8,
   "id": "d37dedf1-9e0b-402b-ad3b-4d4795fbe43d",
   "metadata": {},
   "outputs": [
    {
     "name": "stdout",
     "output_type": "stream",
     "text": [
      "['index1', 'index2', 'index3']\n",
      "index\n",
      "index1    index1\n",
      "index2    index2\n",
      "index3    index3\n",
      "Name: index, dtype: object\n",
      "         index\n",
      "index         \n",
      "index1  index1\n",
      "index2  index2\n",
      "index3  index3\n",
      "{'index1': 'index1', 'index2': 'index2', 'index3': 'index3'}\n"
     ]
    }
   ],
   "source": [
    "# transfer to list, series, frame\n",
    "print(pd_index.tolist())\n",
    "print(pd_index.to_series())  # duplicate the index to series index, index to series data\n",
    "print(pd_index.to_frame())  # duplicate the index to frame index, index to column 1\n",
    "\n",
    "# series can be further converted to dict\n",
    "print(pd_index.to_series().to_dict())"
   ]
  },
  {
   "cell_type": "markdown",
   "id": "2795af14-8509-4d6a-a650-ffc2995bceea",
   "metadata": {},
   "source": [
    "## Then let's talk about MultiIndex"
   ]
  },
  {
   "cell_type": "code",
   "execution_count": 9,
   "id": "e30b42fe-ac2d-4fc9-be5d-f8b27d08cf90",
   "metadata": {},
   "outputs": [],
   "source": [
    "ori_array = [('l1','l2','l3'),('c1','c2','c3'),('r1','r2','r3')]\n",
    "ori_tuple = [('l1','c1','r1'),('l2','c2','r2'),('l3','c3','r3')]"
   ]
  },
  {
   "cell_type": "code",
   "execution_count": 10,
   "id": "0baf45ed-f855-4ff2-be8d-0a75bea5352d",
   "metadata": {},
   "outputs": [],
   "source": [
    "mi = pd.MultiIndex.from_arrays(arrays=ori_array,sortorder=0,names=('left','center','right'))"
   ]
  },
  {
   "cell_type": "code",
   "execution_count": 11,
   "id": "8b03e48c-087d-4f3c-b2e0-f4abfda77e88",
   "metadata": {},
   "outputs": [
    {
     "data": {
      "text/plain": [
       "MultiIndex([('l1', 'c1', 'r1'),\n",
       "            ('l2', 'c2', 'r2'),\n",
       "            ('l3', 'c3', 'r3')],\n",
       "           names=['left', 'center', 'right'])"
      ]
     },
     "execution_count": 11,
     "metadata": {},
     "output_type": "execute_result"
    }
   ],
   "source": [
    "mi   # level 0 is left, level -1 is right"
   ]
  },
  {
   "cell_type": "code",
   "execution_count": 12,
   "id": "172d7f7d-486b-47d9-8f1d-2531e878a43c",
   "metadata": {},
   "outputs": [],
   "source": [
    "mi = pd.MultiIndex.from_tuples(tuples=ori_tuple,sortorder=0,names=('left','center','right'))"
   ]
  },
  {
   "cell_type": "code",
   "execution_count": 13,
   "id": "49176b6f-dd58-4163-9782-9a376427f072",
   "metadata": {},
   "outputs": [
    {
     "data": {
      "text/plain": [
       "MultiIndex([('l1', 'c1', 'r1'),\n",
       "            ('l2', 'c2', 'r2'),\n",
       "            ('l3', 'c3', 'r3')],\n",
       "           names=['left', 'center', 'right'])"
      ]
     },
     "execution_count": 13,
     "metadata": {},
     "output_type": "execute_result"
    }
   ],
   "source": [
    "mi"
   ]
  },
  {
   "cell_type": "markdown",
   "id": "d97c94a7-c305-46fa-a1be-053027a87bcf",
   "metadata": {},
   "source": [
    "## Attributes of MultiIndex"
   ]
  },
  {
   "cell_type": "code",
   "execution_count": 14,
   "id": "8d43293f-ec5d-4edd-8a2d-3b1c1f5b3b5d",
   "metadata": {},
   "outputs": [
    {
     "data": {
      "text/plain": [
       "FrozenList(['left', 'center', 'right'])"
      ]
     },
     "execution_count": 14,
     "metadata": {},
     "output_type": "execute_result"
    }
   ],
   "source": [
    "mi.names"
   ]
  },
  {
   "cell_type": "code",
   "execution_count": 15,
   "id": "790065f8-586c-4afb-8777-3b86ec04a513",
   "metadata": {},
   "outputs": [
    {
     "data": {
      "text/plain": [
       "FrozenList([['l1', 'l2', 'l3'], ['c1', 'c2', 'c3'], ['r1', 'r2', 'r3']])"
      ]
     },
     "execution_count": 15,
     "metadata": {},
     "output_type": "execute_result"
    }
   ],
   "source": [
    "mi.levels"
   ]
  },
  {
   "cell_type": "code",
   "execution_count": 16,
   "id": "691d3199-62b3-41e3-a4f2-3cfa30a22e69",
   "metadata": {},
   "outputs": [
    {
     "data": {
      "text/plain": [
       "Index(['l1', 'l2', 'l3'], dtype='object', name='left')"
      ]
     },
     "execution_count": 16,
     "metadata": {},
     "output_type": "execute_result"
    }
   ],
   "source": [
    "mi.levels[0]"
   ]
  },
  {
   "cell_type": "code",
   "execution_count": 17,
   "id": "4ac78bbe-fb4d-4951-94bb-b82d6caae7bb",
   "metadata": {},
   "outputs": [
    {
     "data": {
      "text/plain": [
       "FrozenList([[0, 1, 2], [0, 1, 2], [0, 1, 2]])"
      ]
     },
     "execution_count": 17,
     "metadata": {},
     "output_type": "execute_result"
    }
   ],
   "source": [
    "mi.codes  # if we first encode the unique values in each level with numeric code"
   ]
  },
  {
   "cell_type": "code",
   "execution_count": 18,
   "id": "c5e686a7-a9f8-4e62-beaf-ffeeb2107115",
   "metadata": {},
   "outputs": [
    {
     "data": {
      "text/plain": [
       "3"
      ]
     },
     "execution_count": 18,
     "metadata": {},
     "output_type": "execute_result"
    }
   ],
   "source": [
    "mi.nlevels"
   ]
  },
  {
   "cell_type": "code",
   "execution_count": 19,
   "id": "88b2a959-0b58-459d-850a-112dd3257cd9",
   "metadata": {},
   "outputs": [
    {
     "data": {
      "text/plain": [
       "(3, 3, 3)"
      ]
     },
     "execution_count": 19,
     "metadata": {},
     "output_type": "execute_result"
    }
   ],
   "source": [
    "mi.levshape "
   ]
  },
  {
   "cell_type": "code",
   "execution_count": 20,
   "id": "3b881afc-32fd-49cc-be75-d8b180d6f5fe",
   "metadata": {},
   "outputs": [
    {
     "data": {
      "text/plain": [
       "dtype('O')"
      ]
     },
     "execution_count": 20,
     "metadata": {},
     "output_type": "execute_result"
    }
   ],
   "source": [
    "mi.dtype"
   ]
  },
  {
   "cell_type": "markdown",
   "id": "ff922823-ffad-4e7f-9c3a-9b1089291b2d",
   "metadata": {},
   "source": [
    "## Operations on MultiIndex"
   ]
  },
  {
   "cell_type": "code",
   "execution_count": 23,
   "id": "1ca5a696-e9ca-4d95-b42d-0a0057d256ec",
   "metadata": {},
   "outputs": [
    {
     "data": {
      "text/plain": [
       "MultiIndex([('ll1', 'c1', 'r1'),\n",
       "            ('ll2', 'c2', 'r2'),\n",
       "            ('ll3', 'c3', 'r3')],\n",
       "           names=['left', 'center', 'right'])"
      ]
     },
     "execution_count": 23,
     "metadata": {},
     "output_type": "execute_result"
    }
   ],
   "source": [
    "mi.set_levels(levels=('ll1','ll2','ll3'),level=0)   # just need to input the unique values to be replaced in that level, not whole level"
   ]
  },
  {
   "cell_type": "code",
   "execution_count": 24,
   "id": "06b876d4-c238-4a1b-8e2a-b5a696dfcb49",
   "metadata": {},
   "outputs": [
    {
     "data": {
      "text/plain": [
       "MultiIndex([('l3', 'c1', 'r1'),\n",
       "            ('l2', 'c2', 'r2'),\n",
       "            ('l1', 'c3', 'r3')],\n",
       "           names=['left', 'center', 'right'])"
      ]
     },
     "execution_count": 24,
     "metadata": {},
     "output_type": "execute_result"
    }
   ],
   "source": [
    "mi.set_codes(codes=(2,1,0),level=0)    # more like reorder, based on the numeric codes that encode the level"
   ]
  },
  {
   "cell_type": "code",
   "execution_count": 25,
   "id": "c45ef8e4-6e1f-47d4-89c7-3f4caaab4529",
   "metadata": {},
   "outputs": [
    {
     "name": "stdout",
     "output_type": "stream",
     "text": [
      "MultiIndex([('col1', 'lev1'),\n",
      "            ('col2', 'lev2'),\n",
      "            ('col3', 'lev3')],\n",
      "           names=['col', 'lev'])\n"
     ]
    }
   ],
   "source": [
    "arrays = [['col1','col2','col3'],['lev1','lev2','lev3']]\n",
    "pd_MultiIndex = pd.MultiIndex.from_arrays(arrays,names=['col','lev'])\n",
    "print(pd_MultiIndex)"
   ]
  },
  {
   "cell_type": "code",
   "execution_count": 27,
   "id": "9f64be56-21b4-42c1-8065-0a9128fe08d2",
   "metadata": {},
   "outputs": [
    {
     "data": {
      "text/html": [
       "<div>\n",
       "<style scoped>\n",
       "    .dataframe tbody tr th:only-of-type {\n",
       "        vertical-align: middle;\n",
       "    }\n",
       "\n",
       "    .dataframe tbody tr th {\n",
       "        vertical-align: top;\n",
       "    }\n",
       "\n",
       "    .dataframe thead tr th {\n",
       "        text-align: left;\n",
       "    }\n",
       "\n",
       "    .dataframe thead tr:last-of-type th {\n",
       "        text-align: right;\n",
       "    }\n",
       "</style>\n",
       "<table border=\"1\" class=\"dataframe\">\n",
       "  <thead>\n",
       "    <tr>\n",
       "      <th></th>\n",
       "      <th>col</th>\n",
       "      <th>col1</th>\n",
       "      <th>col2</th>\n",
       "      <th>col3</th>\n",
       "    </tr>\n",
       "    <tr>\n",
       "      <th></th>\n",
       "      <th>lev</th>\n",
       "      <th>lev1</th>\n",
       "      <th>lev2</th>\n",
       "      <th>lev3</th>\n",
       "    </tr>\n",
       "    <tr>\n",
       "      <th>col</th>\n",
       "      <th>lev</th>\n",
       "      <th></th>\n",
       "      <th></th>\n",
       "      <th></th>\n",
       "    </tr>\n",
       "  </thead>\n",
       "  <tbody>\n",
       "    <tr>\n",
       "      <th>col1</th>\n",
       "      <th>lev1</th>\n",
       "      <td>0.404344</td>\n",
       "      <td>0.736879</td>\n",
       "      <td>0.132671</td>\n",
       "    </tr>\n",
       "    <tr>\n",
       "      <th>col2</th>\n",
       "      <th>lev2</th>\n",
       "      <td>0.510866</td>\n",
       "      <td>0.407481</td>\n",
       "      <td>0.845972</td>\n",
       "    </tr>\n",
       "    <tr>\n",
       "      <th>col3</th>\n",
       "      <th>lev3</th>\n",
       "      <td>0.351028</td>\n",
       "      <td>0.496618</td>\n",
       "      <td>0.347668</td>\n",
       "    </tr>\n",
       "  </tbody>\n",
       "</table>\n",
       "</div>"
      ],
      "text/plain": [
       "col            col1      col2      col3\n",
       "lev            lev1      lev2      lev3\n",
       "col  lev                               \n",
       "col1 lev1  0.404344  0.736879  0.132671\n",
       "col2 lev2  0.510866  0.407481  0.845972\n",
       "col3 lev3  0.351028  0.496618  0.347668"
      ]
     },
     "execution_count": 27,
     "metadata": {},
     "output_type": "execute_result"
    }
   ],
   "source": [
    "df = pd.DataFrame(data=np.random.random([3,3]),index=pd_MultiIndex,columns=pd_MultiIndex)\n",
    "df"
   ]
  },
  {
   "cell_type": "code",
   "execution_count": 28,
   "id": "8f4b769e-ad4b-4cb4-9061-746d8a03d295",
   "metadata": {},
   "outputs": [
    {
     "data": {
      "text/html": [
       "<div>\n",
       "<style scoped>\n",
       "    .dataframe tbody tr th:only-of-type {\n",
       "        vertical-align: middle;\n",
       "    }\n",
       "\n",
       "    .dataframe tbody tr th {\n",
       "        vertical-align: top;\n",
       "    }\n",
       "\n",
       "    .dataframe thead th {\n",
       "        text-align: right;\n",
       "    }\n",
       "</style>\n",
       "<table border=\"1\" class=\"dataframe\">\n",
       "  <thead>\n",
       "    <tr style=\"text-align: right;\">\n",
       "      <th></th>\n",
       "      <th>lev</th>\n",
       "      <th>lev1</th>\n",
       "    </tr>\n",
       "    <tr>\n",
       "      <th>col</th>\n",
       "      <th>lev</th>\n",
       "      <th></th>\n",
       "    </tr>\n",
       "  </thead>\n",
       "  <tbody>\n",
       "    <tr>\n",
       "      <th>col1</th>\n",
       "      <th>lev1</th>\n",
       "      <td>0.404344</td>\n",
       "    </tr>\n",
       "    <tr>\n",
       "      <th>col2</th>\n",
       "      <th>lev2</th>\n",
       "      <td>0.510866</td>\n",
       "    </tr>\n",
       "    <tr>\n",
       "      <th>col3</th>\n",
       "      <th>lev3</th>\n",
       "      <td>0.351028</td>\n",
       "    </tr>\n",
       "  </tbody>\n",
       "</table>\n",
       "</div>"
      ],
      "text/plain": [
       "lev            lev1\n",
       "col  lev           \n",
       "col1 lev1  0.404344\n",
       "col2 lev2  0.510866\n",
       "col3 lev3  0.351028"
      ]
     },
     "execution_count": 28,
     "metadata": {},
     "output_type": "execute_result"
    }
   ],
   "source": [
    "# indexing column first level\n",
    "df.loc[:,'col1']"
   ]
  },
  {
   "cell_type": "code",
   "execution_count": 29,
   "id": "e10f3de8-e0cf-4ffb-994d-5b7da3af74ae",
   "metadata": {},
   "outputs": [
    {
     "data": {
      "text/html": [
       "<div>\n",
       "<style scoped>\n",
       "    .dataframe tbody tr th:only-of-type {\n",
       "        vertical-align: middle;\n",
       "    }\n",
       "\n",
       "    .dataframe tbody tr th {\n",
       "        vertical-align: top;\n",
       "    }\n",
       "\n",
       "    .dataframe thead tr th {\n",
       "        text-align: left;\n",
       "    }\n",
       "\n",
       "    .dataframe thead tr:last-of-type th {\n",
       "        text-align: right;\n",
       "    }\n",
       "</style>\n",
       "<table border=\"1\" class=\"dataframe\">\n",
       "  <thead>\n",
       "    <tr>\n",
       "      <th></th>\n",
       "      <th>col</th>\n",
       "      <th>col1</th>\n",
       "    </tr>\n",
       "    <tr>\n",
       "      <th></th>\n",
       "      <th>lev</th>\n",
       "      <th>lev1</th>\n",
       "    </tr>\n",
       "    <tr>\n",
       "      <th>col</th>\n",
       "      <th>lev</th>\n",
       "      <th></th>\n",
       "    </tr>\n",
       "  </thead>\n",
       "  <tbody>\n",
       "    <tr>\n",
       "      <th>col1</th>\n",
       "      <th>lev1</th>\n",
       "      <td>0.404344</td>\n",
       "    </tr>\n",
       "    <tr>\n",
       "      <th>col2</th>\n",
       "      <th>lev2</th>\n",
       "      <td>0.510866</td>\n",
       "    </tr>\n",
       "    <tr>\n",
       "      <th>col3</th>\n",
       "      <th>lev3</th>\n",
       "      <td>0.351028</td>\n",
       "    </tr>\n",
       "  </tbody>\n",
       "</table>\n",
       "</div>"
      ],
      "text/plain": [
       "col            col1\n",
       "lev            lev1\n",
       "col  lev           \n",
       "col1 lev1  0.404344\n",
       "col2 lev2  0.510866\n",
       "col3 lev3  0.351028"
      ]
     },
     "execution_count": 29,
     "metadata": {},
     "output_type": "execute_result"
    }
   ],
   "source": [
    "# index column second level, also applicable to both levels together\n",
    "df.loc[:,(slice(None),'lev1')]"
   ]
  },
  {
   "cell_type": "code",
   "execution_count": 30,
   "id": "63f87530-18d5-453c-a781-6156b16e09b5",
   "metadata": {},
   "outputs": [
    {
     "data": {
      "text/plain": [
       "Index(['col1', 'col2', 'col3'], dtype='object', name='col')"
      ]
     },
     "execution_count": 30,
     "metadata": {},
     "output_type": "execute_result"
    }
   ],
   "source": [
    "# get_level_values\n",
    "pd_MultiIndex.get_level_values('col')"
   ]
  },
  {
   "cell_type": "code",
   "execution_count": 32,
   "id": "df17dfa0-7d11-4d77-9387-208fe507927a",
   "metadata": {},
   "outputs": [
    {
     "name": "stdout",
     "output_type": "stream",
     "text": [
      "Index([('l1', 'c1', 'r1'), ('l2', 'c2', 'r2'), ('l3', 'c3', 'r3')], dtype='object')\n",
      "[('col1', 'lev1'), ('col2', 'lev2'), ('col3', 'lev3')]\n",
      "                  left center right\n",
      "left center right                  \n",
      "l1   c1     r1      l1     c1    r1\n",
      "l2   c2     r2      l2     c2    r2\n",
      "l3   c3     r3      l3     c3    r3\n",
      "  left center right\n",
      "0   l1     c1    r1\n",
      "1   l2     c2    r2\n",
      "2   l3     c3    r3\n"
     ]
    }
   ],
   "source": [
    "print(mi.to_flat_index())   # inverse of from_tuple, but type is an Index\n",
    "print(pd_MultiIndex.tolist())\n",
    "print(mi.to_frame())\n",
    "print(mi.to_frame(index=False))"
   ]
  },
  {
   "cell_type": "code",
   "execution_count": null,
   "id": "86fca1ca-ea5a-4a07-8249-b9fa6d3f60f7",
   "metadata": {},
   "outputs": [],
   "source": []
  }
 ],
 "metadata": {
  "kernelspec": {
   "display_name": "Python 3 (ipykernel)",
   "language": "python",
   "name": "python3"
  },
  "language_info": {
   "codemirror_mode": {
    "name": "ipython",
    "version": 3
   },
   "file_extension": ".py",
   "mimetype": "text/x-python",
   "name": "python",
   "nbconvert_exporter": "python",
   "pygments_lexer": "ipython3",
   "version": "3.7.13"
  }
 },
 "nbformat": 4,
 "nbformat_minor": 5
}
