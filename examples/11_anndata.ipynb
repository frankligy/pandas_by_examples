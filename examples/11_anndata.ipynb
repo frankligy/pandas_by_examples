{
 "cells": [
  {
   "cell_type": "markdown",
   "metadata": {},
   "source": [
    "## If you are working with single cell (scanpy package, https://scanpy.readthedocs.io/en/stable/), you will notice AnnData object (https://anndata.readthedocs.io/en/latest/).\n",
    "\n",
    "## There are some properties of Anndata that people usually overlooked, so I want to summarize some of the caveats here"
   ]
  },
  {
   "cell_type": "markdown",
   "metadata": {},
   "source": [
    "1. The obs_name and var_name (index of obs dataframe and var dataframe) can not have name, it won't be written to h5ad properly.\n",
    "2. depending on how you construct your anndata, the X can be sparse or dense, make sure to check it\n",
    "3. subset Anndata will result in a AnnDataView (not always though, depending on how you subset the adata), which is different from pandas behavior, although modifying the AnnDataView will result in copy-on-modify. It is still good to keep in mind to not modify AnnDataView at your will. Especially, replace .X will not trigger copy-on-modify.\n",
    "4. Subset Anndata and then accsee X will return ArrayView object, I would recommend to mannually copy if you want to modify. \n",
    "5. assign adata = old_adata is not the same as subsetting, it is literally just point to the original one, so you can not modify at your own will."
   ]
  },
  {
   "cell_type": "code",
   "execution_count": 1,
   "metadata": {},
   "outputs": [],
   "source": [
    "import anndata as ad\n",
    "import pandas as pd\n",
    "import numpy as np"
   ]
  },
  {
   "cell_type": "markdown",
   "metadata": {},
   "source": [
    "## Now let's talk about the concat "
   ]
  },
  {
   "cell_type": "code",
   "execution_count": 2,
   "metadata": {},
   "outputs": [],
   "source": [
    "# using AnnData.concatenate() function\n",
    "# this is easier, the obsm, varm and uns will be ignored\n",
    "# can only concat obs\n",
    "# only consider var and obs\n",
    "# assuming the var name is equal\n",
    "a_obs = pd.DataFrame(data=np.random.random((3,2)),index=['i1','i2','i3'],columns=['obs_a','obs_c'])\n",
    "a_var = pd.DataFrame(index=['i1','i2'],data=np.random.random((2,2)),columns=['var_a','var_c'])\n",
    "a = ad.AnnData(X=np.random.random([3,2]),obs=a_obs,var=a_var)\n",
    "\n",
    "b_obs = pd.DataFrame(data=a_obs.values,index=['i1','i2','i3'],columns=['obs_b','obs_c'])\n",
    "b_var = pd.DataFrame(index=['i1','i2'],data=np.random.random((2,2)),columns=['var_b','var_c'])\n",
    "b = ad.AnnData(X=np.random.random([3,2]),obs=b_obs,var=b_var)"
   ]
  },
  {
   "cell_type": "code",
   "execution_count": 3,
   "metadata": {},
   "outputs": [
    {
     "data": {
      "text/plain": [
       "AnnData object with n_obs × n_vars = 3 × 2\n",
       "    obs: 'obs_a', 'obs_c'\n",
       "    var: 'var_a', 'var_c'"
      ]
     },
     "execution_count": 3,
     "metadata": {},
     "output_type": "execute_result"
    }
   ],
   "source": [
    "a"
   ]
  },
  {
   "cell_type": "code",
   "execution_count": 4,
   "metadata": {},
   "outputs": [
    {
     "data": {
      "text/plain": [
       "AnnData object with n_obs × n_vars = 3 × 2\n",
       "    obs: 'obs_b', 'obs_c'\n",
       "    var: 'var_b', 'var_c'"
      ]
     },
     "execution_count": 4,
     "metadata": {},
     "output_type": "execute_result"
    }
   ],
   "source": [
    "b"
   ]
  },
  {
   "cell_type": "code",
   "execution_count": 5,
   "metadata": {},
   "outputs": [
    {
     "data": {
      "text/plain": [
       "AnnData object with n_obs × n_vars = 6 × 2\n",
       "    obs: 'obs_a', 'obs_c', 'obs_b', 'batch'\n",
       "    var: 'var_a-0', 'var_c-0', 'var_c-1', 'var_b-1'"
      ]
     },
     "execution_count": 5,
     "metadata": {},
     "output_type": "execute_result"
    }
   ],
   "source": [
    "a.concatenate(b) \n",
    "# shared and unique obs will all be kept, missing value will be filled to unique column\n",
    "# assuming the var name is equal, then just naturally keep all columns unique and shared across two objects"
   ]
  },
  {
   "cell_type": "code",
   "execution_count": 6,
   "metadata": {},
   "outputs": [
    {
     "name": "stderr",
     "output_type": "stream",
     "text": [
      "Observation names are not unique. To make them unique, call `.obs_names_make_unique`.\n"
     ]
    }
   ],
   "source": [
    "# using ad.concat() function can allow you to concat var as well,\n",
    "# and varm and obsm can be concat as well\n",
    "# uns, I decided to not consider that\n",
    "# again, assuming the var is equal\n",
    "new = ad.concat([a,b],axis=0,join='outer',merge='first',label='batch',keys=['a','b'])\n",
    "# adding a batch column to obs, indicating the origins, labelled by \"keys\"\n",
    "# join control the axis, merge control the another axis, we hope to be outer for both"
   ]
  },
  {
   "cell_type": "code",
   "execution_count": 7,
   "metadata": {},
   "outputs": [
    {
     "data": {
      "text/plain": [
       "AnnData object with n_obs × n_vars = 6 × 2\n",
       "    obs: 'obs_a', 'obs_c', 'obs_b', 'batch'\n",
       "    var: 'var_a', 'var_c', 'var_b'"
      ]
     },
     "execution_count": 7,
     "metadata": {},
     "output_type": "execute_result"
    }
   ],
   "source": [
    "new"
   ]
  },
  {
   "cell_type": "code",
   "execution_count": 8,
   "metadata": {},
   "outputs": [
    {
     "data": {
      "text/html": [
       "<div>\n",
       "<style scoped>\n",
       "    .dataframe tbody tr th:only-of-type {\n",
       "        vertical-align: middle;\n",
       "    }\n",
       "\n",
       "    .dataframe tbody tr th {\n",
       "        vertical-align: top;\n",
       "    }\n",
       "\n",
       "    .dataframe thead th {\n",
       "        text-align: right;\n",
       "    }\n",
       "</style>\n",
       "<table border=\"1\" class=\"dataframe\">\n",
       "  <thead>\n",
       "    <tr style=\"text-align: right;\">\n",
       "      <th></th>\n",
       "      <th>var_a</th>\n",
       "      <th>var_c</th>\n",
       "    </tr>\n",
       "  </thead>\n",
       "  <tbody>\n",
       "    <tr>\n",
       "      <th>i1</th>\n",
       "      <td>0.621512</td>\n",
       "      <td>0.273783</td>\n",
       "    </tr>\n",
       "    <tr>\n",
       "      <th>i2</th>\n",
       "      <td>0.365935</td>\n",
       "      <td>0.165045</td>\n",
       "    </tr>\n",
       "  </tbody>\n",
       "</table>\n",
       "</div>"
      ],
      "text/plain": [
       "       var_a     var_c\n",
       "i1  0.621512  0.273783\n",
       "i2  0.365935  0.165045"
      ]
     },
     "execution_count": 8,
     "metadata": {},
     "output_type": "execute_result"
    }
   ],
   "source": [
    "a.var"
   ]
  },
  {
   "cell_type": "code",
   "execution_count": 9,
   "metadata": {},
   "outputs": [
    {
     "data": {
      "text/html": [
       "<div>\n",
       "<style scoped>\n",
       "    .dataframe tbody tr th:only-of-type {\n",
       "        vertical-align: middle;\n",
       "    }\n",
       "\n",
       "    .dataframe tbody tr th {\n",
       "        vertical-align: top;\n",
       "    }\n",
       "\n",
       "    .dataframe thead th {\n",
       "        text-align: right;\n",
       "    }\n",
       "</style>\n",
       "<table border=\"1\" class=\"dataframe\">\n",
       "  <thead>\n",
       "    <tr style=\"text-align: right;\">\n",
       "      <th></th>\n",
       "      <th>var_b</th>\n",
       "      <th>var_c</th>\n",
       "    </tr>\n",
       "  </thead>\n",
       "  <tbody>\n",
       "    <tr>\n",
       "      <th>i1</th>\n",
       "      <td>0.245504</td>\n",
       "      <td>0.441060</td>\n",
       "    </tr>\n",
       "    <tr>\n",
       "      <th>i2</th>\n",
       "      <td>0.458893</td>\n",
       "      <td>0.774106</td>\n",
       "    </tr>\n",
       "  </tbody>\n",
       "</table>\n",
       "</div>"
      ],
      "text/plain": [
       "       var_b     var_c\n",
       "i1  0.245504  0.441060\n",
       "i2  0.458893  0.774106"
      ]
     },
     "execution_count": 9,
     "metadata": {},
     "output_type": "execute_result"
    }
   ],
   "source": [
    "b.var"
   ]
  },
  {
   "cell_type": "code",
   "execution_count": 10,
   "metadata": {},
   "outputs": [
    {
     "data": {
      "text/html": [
       "<div>\n",
       "<style scoped>\n",
       "    .dataframe tbody tr th:only-of-type {\n",
       "        vertical-align: middle;\n",
       "    }\n",
       "\n",
       "    .dataframe tbody tr th {\n",
       "        vertical-align: top;\n",
       "    }\n",
       "\n",
       "    .dataframe thead th {\n",
       "        text-align: right;\n",
       "    }\n",
       "</style>\n",
       "<table border=\"1\" class=\"dataframe\">\n",
       "  <thead>\n",
       "    <tr style=\"text-align: right;\">\n",
       "      <th></th>\n",
       "      <th>var_a</th>\n",
       "      <th>var_c</th>\n",
       "      <th>var_b</th>\n",
       "    </tr>\n",
       "  </thead>\n",
       "  <tbody>\n",
       "    <tr>\n",
       "      <th>i1</th>\n",
       "      <td>0.621512</td>\n",
       "      <td>0.273783</td>\n",
       "      <td>0.245504</td>\n",
       "    </tr>\n",
       "    <tr>\n",
       "      <th>i2</th>\n",
       "      <td>0.365935</td>\n",
       "      <td>0.165045</td>\n",
       "      <td>0.458893</td>\n",
       "    </tr>\n",
       "  </tbody>\n",
       "</table>\n",
       "</div>"
      ],
      "text/plain": [
       "       var_a     var_c     var_b\n",
       "i1  0.621512  0.273783  0.245504\n",
       "i2  0.365935  0.165045  0.458893"
      ]
     },
     "execution_count": 10,
     "metadata": {},
     "output_type": "execute_result"
    }
   ],
   "source": [
    "new.var"
   ]
  },
  {
   "cell_type": "code",
   "execution_count": 11,
   "metadata": {},
   "outputs": [],
   "source": [
    "# now you understand how \"first\" control the way to display shared var, unlike concatenate() function, \n",
    "# now it takes the value that it firstly encoutered, which is a object, so if you have two objects that have shared\n",
    "# column in var, make sure they are the same"
   ]
  },
  {
   "cell_type": "code",
   "execution_count": null,
   "metadata": {},
   "outputs": [],
   "source": []
  }
 ],
 "metadata": {
  "kernelspec": {
   "display_name": "Python 3",
   "language": "python",
   "name": "python3"
  },
  "language_info": {
   "codemirror_mode": {
    "name": "ipython",
    "version": 3
   },
   "file_extension": ".py",
   "mimetype": "text/x-python",
   "name": "python",
   "nbconvert_exporter": "python",
   "pygments_lexer": "ipython3",
   "version": "3.6.13"
  }
 },
 "nbformat": 4,
 "nbformat_minor": 4
}
