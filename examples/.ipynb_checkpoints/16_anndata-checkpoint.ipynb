{
 "cells": [
  {
   "cell_type": "markdown",
   "metadata": {},
   "source": [
    "## If you are working with single cell (scanpy package, https://scanpy.readthedocs.io/en/stable/), you will notice AnnData object (https://anndata.readthedocs.io/en/latest/).\n",
    "\n",
    "## There are some properties of Anndata that people usually overlooked, so I want to summarize some of the caveats here"
   ]
  },
  {
   "cell_type": "markdown",
   "metadata": {},
   "source": [
    "1. The obs_name and var_name (index of obs dataframe and var dataframe) can not have name, it won't be written to h5ad properly.\n",
    "2. depending on how you construct your anndata, the X can be sparse or dense, make sure to check it\n",
    "3. subset Anndata will result in a View, which is different from pandas behavior"
   ]
  },
  {
   "cell_type": "code",
   "execution_count": null,
   "metadata": {},
   "outputs": [],
   "source": []
  }
 ],
 "metadata": {
  "kernelspec": {
   "display_name": "Python 3",
   "language": "python",
   "name": "python3"
  },
  "language_info": {
   "codemirror_mode": {
    "name": "ipython",
    "version": 3
   },
   "file_extension": ".py",
   "mimetype": "text/x-python",
   "name": "python",
   "nbconvert_exporter": "python",
   "pygments_lexer": "ipython3",
   "version": "3.6.12"
  }
 },
 "nbformat": 4,
 "nbformat_minor": 4
}
