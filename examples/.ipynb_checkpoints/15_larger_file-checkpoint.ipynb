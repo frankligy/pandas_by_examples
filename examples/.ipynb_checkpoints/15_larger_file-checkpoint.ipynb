{
 "cells": [
  {
   "cell_type": "markdown",
   "metadata": {},
   "source": [
    "## How to read a 10G file into memory?"
   ]
  },
  {
   "cell_type": "markdown",
   "metadata": {},
   "source": [
    "1. It is not a good idea to directly use read_csv, because python will add a lot pointer under the hood, and each pointer will be 8 bytes, it is not cost-efficient. Also, the default dtype will consume a lot of memory, like int64 and float64. Brute force reading can take several hours and what's worse, the memory overhead.\n",
    "\n",
    "2. workaround:\n",
    "    - adjust dtype, using dtype option (a dict {col1:int16,col2:int8})\n",
    "    - chunk by chunk, using chunksize option, so construct a TextFileReader object, read chunk by chunk, then finally concat them together, for each chunk, you may consider cast their type to a more reasonable one. But concat will enforce uniform dtype, which is annoying though."
   ]
  },
  {
   "cell_type": "code",
   "execution_count": null,
   "metadata": {},
   "outputs": [],
   "source": []
  }
 ],
 "metadata": {
  "kernelspec": {
   "display_name": "Python 3",
   "language": "python",
   "name": "python3"
  },
  "language_info": {
   "codemirror_mode": {
    "name": "ipython",
    "version": 3
   },
   "file_extension": ".py",
   "mimetype": "text/x-python",
   "name": "python",
   "nbconvert_exporter": "python",
   "pygments_lexer": "ipython3",
   "version": "3.6.12"
  }
 },
 "nbformat": 4,
 "nbformat_minor": 4
}
