{
 "cells": [
  {
   "cell_type": "markdown",
   "id": "5f68a666-70ef-472a-8f82-4e1b726f532a",
   "metadata": {},
   "source": [
    "## How to pull out (index,column) pair based on the value"
   ]
  },
  {
   "cell_type": "code",
   "execution_count": 1,
   "id": "18f9d2c0-ceba-4310-a639-071b9ee6cde7",
   "metadata": {},
   "outputs": [],
   "source": [
    "import pandas as pd\n",
    "import numpy as np"
   ]
  },
  {
   "cell_type": "code",
   "execution_count": 4,
   "id": "3316a6e5-a785-4a80-a5a0-e5381a1d8441",
   "metadata": {},
   "outputs": [],
   "source": [
    "df = pd.DataFrame(data=np.random.random([4,5]),\n",
    "                 index=['index{}'.format(i) for i in range(4)],\n",
    "                 columns=['column{}'.format(j) for j in range(5)])"
   ]
  },
  {
   "cell_type": "code",
   "execution_count": 5,
   "id": "471df6b3-583f-4bf6-801c-39229e0b2cbf",
   "metadata": {},
   "outputs": [
    {
     "data": {
      "text/html": [
       "<div>\n",
       "<style scoped>\n",
       "    .dataframe tbody tr th:only-of-type {\n",
       "        vertical-align: middle;\n",
       "    }\n",
       "\n",
       "    .dataframe tbody tr th {\n",
       "        vertical-align: top;\n",
       "    }\n",
       "\n",
       "    .dataframe thead th {\n",
       "        text-align: right;\n",
       "    }\n",
       "</style>\n",
       "<table border=\"1\" class=\"dataframe\">\n",
       "  <thead>\n",
       "    <tr style=\"text-align: right;\">\n",
       "      <th></th>\n",
       "      <th>column0</th>\n",
       "      <th>column1</th>\n",
       "      <th>column2</th>\n",
       "      <th>column3</th>\n",
       "      <th>column4</th>\n",
       "    </tr>\n",
       "  </thead>\n",
       "  <tbody>\n",
       "    <tr>\n",
       "      <th>index0</th>\n",
       "      <td>0.544434</td>\n",
       "      <td>0.802825</td>\n",
       "      <td>0.655728</td>\n",
       "      <td>0.934888</td>\n",
       "      <td>0.816495</td>\n",
       "    </tr>\n",
       "    <tr>\n",
       "      <th>index1</th>\n",
       "      <td>0.648307</td>\n",
       "      <td>0.832188</td>\n",
       "      <td>0.232913</td>\n",
       "      <td>0.709664</td>\n",
       "      <td>0.587650</td>\n",
       "    </tr>\n",
       "    <tr>\n",
       "      <th>index2</th>\n",
       "      <td>0.935344</td>\n",
       "      <td>0.092050</td>\n",
       "      <td>0.824676</td>\n",
       "      <td>0.009826</td>\n",
       "      <td>0.676666</td>\n",
       "    </tr>\n",
       "    <tr>\n",
       "      <th>index3</th>\n",
       "      <td>0.587976</td>\n",
       "      <td>0.968270</td>\n",
       "      <td>0.432512</td>\n",
       "      <td>0.164208</td>\n",
       "      <td>0.715670</td>\n",
       "    </tr>\n",
       "  </tbody>\n",
       "</table>\n",
       "</div>"
      ],
      "text/plain": [
       "         column0   column1   column2   column3   column4\n",
       "index0  0.544434  0.802825  0.655728  0.934888  0.816495\n",
       "index1  0.648307  0.832188  0.232913  0.709664  0.587650\n",
       "index2  0.935344  0.092050  0.824676  0.009826  0.676666\n",
       "index3  0.587976  0.968270  0.432512  0.164208  0.715670"
      ]
     },
     "execution_count": 5,
     "metadata": {},
     "output_type": "execute_result"
    }
   ],
   "source": [
    "df"
   ]
  },
  {
   "cell_type": "markdown",
   "id": "45545ba8-d4fa-424a-b75a-fb2a62c855e0",
   "metadata": {},
   "source": [
    "# we want to pull out all (index-column) pair whose value > 0.8"
   ]
  },
  {
   "cell_type": "code",
   "execution_count": 7,
   "id": "60a262e2-7769-43bb-b7de-d4dab466ab41",
   "metadata": {},
   "outputs": [
    {
     "data": {
      "text/plain": [
       "[('index0', 'column1'),\n",
       " ('index0', 'column3'),\n",
       " ('index0', 'column4'),\n",
       " ('index1', 'column1'),\n",
       " ('index2', 'column0'),\n",
       " ('index2', 'column2'),\n",
       " ('index3', 'column1')]"
      ]
     },
     "execution_count": 7,
     "metadata": {},
     "output_type": "execute_result"
    }
   ],
   "source": [
    "df.where(df>0.8).stack().index.tolist()"
   ]
  },
  {
   "cell_type": "markdown",
   "id": "af857fbc-95dd-4f22-a264-0bbde554c572",
   "metadata": {},
   "source": [
    "# let's digest\n",
    "1. step1: df > 0.8 will return a boolean dataframe\n",
    "2. step2: df.where without addtional argument will alter entries that is False as NaN (most important step)\n",
    "3. step3: NaN will be automatically igonored when calling stack() to construct multiIndex\n",
    "4. step4: extract multiIndex and chagne to list"
   ]
  },
  {
   "cell_type": "code",
   "execution_count": 8,
   "id": "8e19275d-2a4e-4dbe-ae3f-4037f24bd767",
   "metadata": {},
   "outputs": [
    {
     "data": {
      "text/html": [
       "<div>\n",
       "<style scoped>\n",
       "    .dataframe tbody tr th:only-of-type {\n",
       "        vertical-align: middle;\n",
       "    }\n",
       "\n",
       "    .dataframe tbody tr th {\n",
       "        vertical-align: top;\n",
       "    }\n",
       "\n",
       "    .dataframe thead th {\n",
       "        text-align: right;\n",
       "    }\n",
       "</style>\n",
       "<table border=\"1\" class=\"dataframe\">\n",
       "  <thead>\n",
       "    <tr style=\"text-align: right;\">\n",
       "      <th></th>\n",
       "      <th>column0</th>\n",
       "      <th>column1</th>\n",
       "      <th>column2</th>\n",
       "      <th>column3</th>\n",
       "      <th>column4</th>\n",
       "    </tr>\n",
       "  </thead>\n",
       "  <tbody>\n",
       "    <tr>\n",
       "      <th>index0</th>\n",
       "      <td>False</td>\n",
       "      <td>True</td>\n",
       "      <td>False</td>\n",
       "      <td>True</td>\n",
       "      <td>True</td>\n",
       "    </tr>\n",
       "    <tr>\n",
       "      <th>index1</th>\n",
       "      <td>False</td>\n",
       "      <td>True</td>\n",
       "      <td>False</td>\n",
       "      <td>False</td>\n",
       "      <td>False</td>\n",
       "    </tr>\n",
       "    <tr>\n",
       "      <th>index2</th>\n",
       "      <td>True</td>\n",
       "      <td>False</td>\n",
       "      <td>True</td>\n",
       "      <td>False</td>\n",
       "      <td>False</td>\n",
       "    </tr>\n",
       "    <tr>\n",
       "      <th>index3</th>\n",
       "      <td>False</td>\n",
       "      <td>True</td>\n",
       "      <td>False</td>\n",
       "      <td>False</td>\n",
       "      <td>False</td>\n",
       "    </tr>\n",
       "  </tbody>\n",
       "</table>\n",
       "</div>"
      ],
      "text/plain": [
       "        column0  column1  column2  column3  column4\n",
       "index0    False     True    False     True     True\n",
       "index1    False     True    False    False    False\n",
       "index2     True    False     True    False    False\n",
       "index3    False     True    False    False    False"
      ]
     },
     "execution_count": 8,
     "metadata": {},
     "output_type": "execute_result"
    }
   ],
   "source": [
    "# step1\n",
    "df > 0.8"
   ]
  },
  {
   "cell_type": "code",
   "execution_count": 9,
   "id": "eab45465-1186-4cf2-a56d-d0a02ca40bde",
   "metadata": {},
   "outputs": [
    {
     "data": {
      "text/html": [
       "<div>\n",
       "<style scoped>\n",
       "    .dataframe tbody tr th:only-of-type {\n",
       "        vertical-align: middle;\n",
       "    }\n",
       "\n",
       "    .dataframe tbody tr th {\n",
       "        vertical-align: top;\n",
       "    }\n",
       "\n",
       "    .dataframe thead th {\n",
       "        text-align: right;\n",
       "    }\n",
       "</style>\n",
       "<table border=\"1\" class=\"dataframe\">\n",
       "  <thead>\n",
       "    <tr style=\"text-align: right;\">\n",
       "      <th></th>\n",
       "      <th>column0</th>\n",
       "      <th>column1</th>\n",
       "      <th>column2</th>\n",
       "      <th>column3</th>\n",
       "      <th>column4</th>\n",
       "    </tr>\n",
       "  </thead>\n",
       "  <tbody>\n",
       "    <tr>\n",
       "      <th>index0</th>\n",
       "      <td>NaN</td>\n",
       "      <td>0.802825</td>\n",
       "      <td>NaN</td>\n",
       "      <td>0.934888</td>\n",
       "      <td>0.816495</td>\n",
       "    </tr>\n",
       "    <tr>\n",
       "      <th>index1</th>\n",
       "      <td>NaN</td>\n",
       "      <td>0.832188</td>\n",
       "      <td>NaN</td>\n",
       "      <td>NaN</td>\n",
       "      <td>NaN</td>\n",
       "    </tr>\n",
       "    <tr>\n",
       "      <th>index2</th>\n",
       "      <td>0.935344</td>\n",
       "      <td>NaN</td>\n",
       "      <td>0.824676</td>\n",
       "      <td>NaN</td>\n",
       "      <td>NaN</td>\n",
       "    </tr>\n",
       "    <tr>\n",
       "      <th>index3</th>\n",
       "      <td>NaN</td>\n",
       "      <td>0.968270</td>\n",
       "      <td>NaN</td>\n",
       "      <td>NaN</td>\n",
       "      <td>NaN</td>\n",
       "    </tr>\n",
       "  </tbody>\n",
       "</table>\n",
       "</div>"
      ],
      "text/plain": [
       "         column0   column1   column2   column3   column4\n",
       "index0       NaN  0.802825       NaN  0.934888  0.816495\n",
       "index1       NaN  0.832188       NaN       NaN       NaN\n",
       "index2  0.935344       NaN  0.824676       NaN       NaN\n",
       "index3       NaN  0.968270       NaN       NaN       NaN"
      ]
     },
     "execution_count": 9,
     "metadata": {},
     "output_type": "execute_result"
    }
   ],
   "source": [
    "# step2\n",
    "df.where(df>0.8)"
   ]
  },
  {
   "cell_type": "code",
   "execution_count": 10,
   "id": "74777ff6-4c2c-469e-add3-41f59bc9adfd",
   "metadata": {},
   "outputs": [
    {
     "data": {
      "text/plain": [
       "index0  column1    0.802825\n",
       "        column3    0.934888\n",
       "        column4    0.816495\n",
       "index1  column1    0.832188\n",
       "index2  column0    0.935344\n",
       "        column2    0.824676\n",
       "index3  column1    0.968270\n",
       "dtype: float64"
      ]
     },
     "execution_count": 10,
     "metadata": {},
     "output_type": "execute_result"
    }
   ],
   "source": [
    "# step3\n",
    "df.where(df>0.8).stack()"
   ]
  },
  {
   "cell_type": "code",
   "execution_count": 12,
   "id": "2423db08-76bd-4a59-a5d1-aab7545bcafa",
   "metadata": {},
   "outputs": [
    {
     "data": {
      "text/plain": [
       "MultiIndex([('index0', 'column1'),\n",
       "            ('index0', 'column3'),\n",
       "            ('index0', 'column4'),\n",
       "            ('index1', 'column1'),\n",
       "            ('index2', 'column0'),\n",
       "            ('index2', 'column2'),\n",
       "            ('index3', 'column1')],\n",
       "           )"
      ]
     },
     "execution_count": 12,
     "metadata": {},
     "output_type": "execute_result"
    }
   ],
   "source": [
    "# step4\n",
    "df.where(df>0.8).stack().index"
   ]
  },
  {
   "cell_type": "code",
   "execution_count": null,
   "id": "8e005301-af2a-4e94-b779-899085c7a0f6",
   "metadata": {},
   "outputs": [],
   "source": []
  }
 ],
 "metadata": {
  "kernelspec": {
   "display_name": "Python 3",
   "language": "python",
   "name": "python3"
  },
  "language_info": {
   "codemirror_mode": {
    "name": "ipython",
    "version": 3
   },
   "file_extension": ".py",
   "mimetype": "text/x-python",
   "name": "python",
   "nbconvert_exporter": "python",
   "pygments_lexer": "ipython3",
   "version": "3.6.13"
  }
 },
 "nbformat": 4,
 "nbformat_minor": 5
}
