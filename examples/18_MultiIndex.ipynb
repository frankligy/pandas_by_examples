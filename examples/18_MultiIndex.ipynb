{
 "cells": [
  {
   "cell_type": "markdown",
   "id": "5c0a24ef-aaa3-4eb4-a319-e0a35b4ce857",
   "metadata": {},
   "source": [
    "## Let's try to understand the MultiIndex"
   ]
  },
  {
   "cell_type": "code",
   "execution_count": 1,
   "id": "53b91ebe-ed67-4b67-a693-f4b5532b9ff6",
   "metadata": {},
   "outputs": [],
   "source": [
    "import pandas as pd\n",
    "import numpy as np"
   ]
  },
  {
   "cell_type": "markdown",
   "id": "7c1846d6-301d-4b33-88b2-647469d14a30",
   "metadata": {},
   "source": [
    "## 1. Create MultiIndex"
   ]
  },
  {
   "cell_type": "code",
   "execution_count": 39,
   "id": "0353dbaa-a11a-497c-b898-5bc2ba392df9",
   "metadata": {},
   "outputs": [],
   "source": [
    "ori_array = [('l1','l2','l3'),('c1','c2','c3'),('r1','r2','r3')]\n",
    "ori_tuple = [('l1','c1','r1'),('l2','c2','r2'),('l3','c3','r3')]"
   ]
  },
  {
   "cell_type": "code",
   "execution_count": 40,
   "id": "3303a2e0-5947-4631-bf20-dbd4f2aa2362",
   "metadata": {},
   "outputs": [],
   "source": [
    "mi = pd.MultiIndex.from_arrays(arrays=ori_array,sortorder=0,names=('left','center','right'))"
   ]
  },
  {
   "cell_type": "code",
   "execution_count": 41,
   "id": "61046a04-6cfb-4dc4-bf0c-b67669edf1c0",
   "metadata": {},
   "outputs": [
    {
     "data": {
      "text/plain": [
       "MultiIndex([('l1', 'c1', 'r1'),\n",
       "            ('l2', 'c2', 'r2'),\n",
       "            ('l3', 'c3', 'r3')],\n",
       "           names=['left', 'center', 'right'])"
      ]
     },
     "execution_count": 41,
     "metadata": {},
     "output_type": "execute_result"
    }
   ],
   "source": [
    "mi   # level 0 is left, level -1 is right"
   ]
  },
  {
   "cell_type": "code",
   "execution_count": 42,
   "id": "a03a7d41-aec4-49c4-a531-f8fb105e7de1",
   "metadata": {},
   "outputs": [],
   "source": [
    "mi = pd.MultiIndex.from_tuples(tuples=ori_tuple,sortorder=0,names=('left','center','right'))"
   ]
  },
  {
   "cell_type": "code",
   "execution_count": 43,
   "id": "4b1010b1-5c7d-466b-903b-55a7e28c255b",
   "metadata": {},
   "outputs": [
    {
     "data": {
      "text/plain": [
       "MultiIndex([('l1', 'c1', 'r1'),\n",
       "            ('l2', 'c2', 'r2'),\n",
       "            ('l3', 'c3', 'r3')],\n",
       "           names=['left', 'center', 'right'])"
      ]
     },
     "execution_count": 43,
     "metadata": {},
     "output_type": "execute_result"
    }
   ],
   "source": [
    "mi"
   ]
  },
  {
   "cell_type": "code",
   "execution_count": 44,
   "id": "4fe3d6e4-97a0-4eb0-aaa0-98650ca26d81",
   "metadata": {},
   "outputs": [],
   "source": [
    "# other two methods are from_frames or from_products, here omitted"
   ]
  },
  {
   "cell_type": "markdown",
   "id": "765e5f3c-7f61-4152-8424-84db31397732",
   "metadata": {},
   "source": [
    "## 2. MultiIndex properties"
   ]
  },
  {
   "cell_type": "code",
   "execution_count": 45,
   "id": "a78e101c-ba83-4c48-8336-ef0edca9ca5f",
   "metadata": {},
   "outputs": [
    {
     "data": {
      "text/plain": [
       "FrozenList(['left', 'center', 'right'])"
      ]
     },
     "execution_count": 45,
     "metadata": {},
     "output_type": "execute_result"
    }
   ],
   "source": [
    "mi.names"
   ]
  },
  {
   "cell_type": "code",
   "execution_count": 46,
   "id": "65590e5e-50c7-42b5-977d-38d1cd145d3e",
   "metadata": {},
   "outputs": [
    {
     "data": {
      "text/plain": [
       "FrozenList([['l1', 'l2', 'l3'], ['c1', 'c2', 'c3'], ['r1', 'r2', 'r3']])"
      ]
     },
     "execution_count": 46,
     "metadata": {},
     "output_type": "execute_result"
    }
   ],
   "source": [
    "mi.levels"
   ]
  },
  {
   "cell_type": "code",
   "execution_count": 47,
   "id": "474d45e3-d682-417f-9070-069783b15237",
   "metadata": {},
   "outputs": [
    {
     "data": {
      "text/plain": [
       "Index(['l1', 'l2', 'l3'], dtype='object', name='left')"
      ]
     },
     "execution_count": 47,
     "metadata": {},
     "output_type": "execute_result"
    }
   ],
   "source": [
    "mi.levels[0]"
   ]
  },
  {
   "cell_type": "code",
   "execution_count": 48,
   "id": "a48edcdc-f41b-4b02-8125-522c20bb4fb5",
   "metadata": {},
   "outputs": [
    {
     "data": {
      "text/plain": [
       "FrozenList([[0, 1, 2], [0, 1, 2], [0, 1, 2]])"
      ]
     },
     "execution_count": 48,
     "metadata": {},
     "output_type": "execute_result"
    }
   ],
   "source": [
    "mi.codes  # if we first encode the unique values in each level with numeric code"
   ]
  },
  {
   "cell_type": "code",
   "execution_count": 49,
   "id": "ab917da1-3e3b-4c8c-9531-cf9512db3191",
   "metadata": {},
   "outputs": [
    {
     "data": {
      "text/plain": [
       "3"
      ]
     },
     "execution_count": 49,
     "metadata": {},
     "output_type": "execute_result"
    }
   ],
   "source": [
    "mi.nlevels"
   ]
  },
  {
   "cell_type": "code",
   "execution_count": 50,
   "id": "bd9e10f8-8a81-439b-b3f1-84a52326eb75",
   "metadata": {},
   "outputs": [
    {
     "data": {
      "text/plain": [
       "(3, 3, 3)"
      ]
     },
     "execution_count": 50,
     "metadata": {},
     "output_type": "execute_result"
    }
   ],
   "source": [
    "mi.levshape   # length of each level"
   ]
  },
  {
   "cell_type": "code",
   "execution_count": 22,
   "id": "f6215275-106c-4c3b-bb1e-3721688dc07e",
   "metadata": {},
   "outputs": [
    {
     "data": {
      "text/plain": [
       "dtype('O')"
      ]
     },
     "execution_count": 22,
     "metadata": {},
     "output_type": "execute_result"
    }
   ],
   "source": [
    "mi.dtype   # view the MultiIndex as a series"
   ]
  },
  {
   "cell_type": "markdown",
   "id": "d3618a21-6b80-4374-8f2e-3539cda44f99",
   "metadata": {},
   "source": [
    "## 3. modify the MultiIndex"
   ]
  },
  {
   "cell_type": "code",
   "execution_count": 23,
   "id": "dba5f38d-124f-472e-8f59-e309fe7d2695",
   "metadata": {},
   "outputs": [
    {
     "data": {
      "text/plain": [
       "MultiIndex([('ll1', 'c1', 'r1'),\n",
       "            ('ll2', 'c2', 'r2'),\n",
       "            ('ll3', 'c3', 'r3')],\n",
       "           names=['left', 'center', 'right'])"
      ]
     },
     "execution_count": 23,
     "metadata": {},
     "output_type": "execute_result"
    }
   ],
   "source": [
    "mi.set_levels(('ll1','ll2','ll3'),0)   # just need to input the unique values to be replaced in that level, not whole level"
   ]
  },
  {
   "cell_type": "code",
   "execution_count": 24,
   "id": "6bb8dc63-dc4c-40bb-b292-5acb44d2ff3f",
   "metadata": {},
   "outputs": [
    {
     "data": {
      "text/plain": [
       "MultiIndex([('l3', 'c1', 'r1'),\n",
       "            ('l2', 'c2', 'r2'),\n",
       "            ('l1', 'c3', 'r3')],\n",
       "           names=['left', 'center', 'right'])"
      ]
     },
     "execution_count": 24,
     "metadata": {},
     "output_type": "execute_result"
    }
   ],
   "source": [
    "mi.set_codes((2,1,0),0)    # more like reorder, based on the numeric codes that encode the level"
   ]
  },
  {
   "cell_type": "markdown",
   "id": "1ec2bb99-d422-4f90-a4c0-76f57e9831c9",
   "metadata": {},
   "source": [
    "## 4.export to others"
   ]
  },
  {
   "cell_type": "code",
   "execution_count": 26,
   "id": "df490e71-f994-4664-8a45-774de66d2c06",
   "metadata": {},
   "outputs": [
    {
     "data": {
      "text/plain": [
       "Index([('l1', 'c1', 'r1'), ('l2', 'c2', 'r2'), ('l3', 'c3', 'r3')], dtype='object')"
      ]
     },
     "execution_count": 26,
     "metadata": {},
     "output_type": "execute_result"
    }
   ],
   "source": [
    "mi.to_flat_index()   # inverse of from_tuple, but type is an Index"
   ]
  },
  {
   "cell_type": "code",
   "execution_count": 27,
   "id": "08954ea4-b228-4763-837a-16fff7d1457b",
   "metadata": {},
   "outputs": [
    {
     "data": {
      "text/html": [
       "<div>\n",
       "<style scoped>\n",
       "    .dataframe tbody tr th:only-of-type {\n",
       "        vertical-align: middle;\n",
       "    }\n",
       "\n",
       "    .dataframe tbody tr th {\n",
       "        vertical-align: top;\n",
       "    }\n",
       "\n",
       "    .dataframe thead th {\n",
       "        text-align: right;\n",
       "    }\n",
       "</style>\n",
       "<table border=\"1\" class=\"dataframe\">\n",
       "  <thead>\n",
       "    <tr style=\"text-align: right;\">\n",
       "      <th></th>\n",
       "      <th></th>\n",
       "      <th></th>\n",
       "      <th>left</th>\n",
       "      <th>center</th>\n",
       "      <th>right</th>\n",
       "    </tr>\n",
       "    <tr>\n",
       "      <th>left</th>\n",
       "      <th>center</th>\n",
       "      <th>right</th>\n",
       "      <th></th>\n",
       "      <th></th>\n",
       "      <th></th>\n",
       "    </tr>\n",
       "  </thead>\n",
       "  <tbody>\n",
       "    <tr>\n",
       "      <th>l1</th>\n",
       "      <th>c1</th>\n",
       "      <th>r1</th>\n",
       "      <td>l1</td>\n",
       "      <td>c1</td>\n",
       "      <td>r1</td>\n",
       "    </tr>\n",
       "    <tr>\n",
       "      <th>l2</th>\n",
       "      <th>c2</th>\n",
       "      <th>r2</th>\n",
       "      <td>l2</td>\n",
       "      <td>c2</td>\n",
       "      <td>r2</td>\n",
       "    </tr>\n",
       "    <tr>\n",
       "      <th>l3</th>\n",
       "      <th>c3</th>\n",
       "      <th>r3</th>\n",
       "      <td>l3</td>\n",
       "      <td>c3</td>\n",
       "      <td>r3</td>\n",
       "    </tr>\n",
       "  </tbody>\n",
       "</table>\n",
       "</div>"
      ],
      "text/plain": [
       "                  left center right\n",
       "left center right                  \n",
       "l1   c1     r1      l1     c1    r1\n",
       "l2   c2     r2      l2     c2    r2\n",
       "l3   c3     r3      l3     c3    r3"
      ]
     },
     "execution_count": 27,
     "metadata": {},
     "output_type": "execute_result"
    }
   ],
   "source": [
    "mi.to_frame()"
   ]
  },
  {
   "cell_type": "code",
   "execution_count": 28,
   "id": "c8560846-e75b-49d8-a39e-536ce9112097",
   "metadata": {},
   "outputs": [
    {
     "data": {
      "text/html": [
       "<div>\n",
       "<style scoped>\n",
       "    .dataframe tbody tr th:only-of-type {\n",
       "        vertical-align: middle;\n",
       "    }\n",
       "\n",
       "    .dataframe tbody tr th {\n",
       "        vertical-align: top;\n",
       "    }\n",
       "\n",
       "    .dataframe thead th {\n",
       "        text-align: right;\n",
       "    }\n",
       "</style>\n",
       "<table border=\"1\" class=\"dataframe\">\n",
       "  <thead>\n",
       "    <tr style=\"text-align: right;\">\n",
       "      <th></th>\n",
       "      <th>left</th>\n",
       "      <th>center</th>\n",
       "      <th>right</th>\n",
       "    </tr>\n",
       "  </thead>\n",
       "  <tbody>\n",
       "    <tr>\n",
       "      <th>0</th>\n",
       "      <td>l1</td>\n",
       "      <td>c1</td>\n",
       "      <td>r1</td>\n",
       "    </tr>\n",
       "    <tr>\n",
       "      <th>1</th>\n",
       "      <td>l2</td>\n",
       "      <td>c2</td>\n",
       "      <td>r2</td>\n",
       "    </tr>\n",
       "    <tr>\n",
       "      <th>2</th>\n",
       "      <td>l3</td>\n",
       "      <td>c3</td>\n",
       "      <td>r3</td>\n",
       "    </tr>\n",
       "  </tbody>\n",
       "</table>\n",
       "</div>"
      ],
      "text/plain": [
       "  left center right\n",
       "0   l1     c1    r1\n",
       "1   l2     c2    r2\n",
       "2   l3     c3    r3"
      ]
     },
     "execution_count": 28,
     "metadata": {},
     "output_type": "execute_result"
    }
   ],
   "source": [
    "mi.to_frame(index=False)"
   ]
  }
 ],
 "metadata": {
  "kernelspec": {
   "display_name": "Python 3",
   "language": "python",
   "name": "python3"
  },
  "language_info": {
   "codemirror_mode": {
    "name": "ipython",
    "version": 3
   },
   "file_extension": ".py",
   "mimetype": "text/x-python",
   "name": "python",
   "nbconvert_exporter": "python",
   "pygments_lexer": "ipython3",
   "version": "3.6.13"
  }
 },
 "nbformat": 4,
 "nbformat_minor": 5
}
